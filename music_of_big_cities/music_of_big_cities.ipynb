{
 "cells": [
  {
   "cell_type": "markdown",
   "metadata": {
    "toc": true
   },
   "source": [
    "<h1>Оглавление<span class=\"tocSkip\"></span></h1>\n",
    "<div class=\"toc\"><ul class=\"toc-item\"><li><span><a href=\"#Обзор-данных\" data-toc-modified-id=\"Обзор-данных-1\"><span class=\"toc-item-num\">1&nbsp;&nbsp;</span>Обзор данных</a></span></li><li><span><a href=\"#Предобработка-данных\" data-toc-modified-id=\"Предобработка-данных-2\"><span class=\"toc-item-num\">2&nbsp;&nbsp;</span>Предобработка данных</a></span><ul class=\"toc-item\"><li><span><a href=\"#Стиль-заголовков\" data-toc-modified-id=\"Стиль-заголовков-2.1\"><span class=\"toc-item-num\">2.1&nbsp;&nbsp;</span>Стиль заголовков</a></span></li><li><span><a href=\"#Пропуски-значений\" data-toc-modified-id=\"Пропуски-значений-2.2\"><span class=\"toc-item-num\">2.2&nbsp;&nbsp;</span>Пропуски значений</a></span></li><li><span><a href=\"#Дубликаты\" data-toc-modified-id=\"Дубликаты-2.3\"><span class=\"toc-item-num\">2.3&nbsp;&nbsp;</span>Дубликаты</a></span></li></ul></li><li><span><a href=\"#Проверка-гипотез\" data-toc-modified-id=\"Проверка-гипотез-3\"><span class=\"toc-item-num\">3&nbsp;&nbsp;</span>Проверка гипотез</a></span><ul class=\"toc-item\"><li><span><a href=\"#Сравнение-поведения-пользователей-двух-столиц\" data-toc-modified-id=\"Сравнение-поведения-пользователей-двух-столиц-3.1\"><span class=\"toc-item-num\">3.1&nbsp;&nbsp;</span>Сравнение поведения пользователей двух столиц</a></span></li><li><span><a href=\"#Музыка-в-начале-и-в-конце-недели\" data-toc-modified-id=\"Музыка-в-начале-и-в-конце-недели-3.2\"><span class=\"toc-item-num\">3.2&nbsp;&nbsp;</span>Музыка в начале и в конце недели</a></span></li><li><span><a href=\"#Жанровые-предпочтения-в-Москве-и-Петербурге\" data-toc-modified-id=\"Жанровые-предпочтения-в-Москве-и-Петербурге-3.3\"><span class=\"toc-item-num\">3.3&nbsp;&nbsp;</span>Жанровые предпочтения в Москве и Петербурге</a></span></li></ul></li><li><span><a href=\"#Итоги-исследования\" data-toc-modified-id=\"Итоги-исследования-4\"><span class=\"toc-item-num\">4&nbsp;&nbsp;</span>Итоги исследования</a></span></li></ul></div>"
   ]
  },
  {
   "cell_type": "markdown",
   "metadata": {
    "id": "E0vqbgi9ay0H"
   },
   "source": [
    "# Яндекс.Музыка"
   ]
  },
  {
   "cell_type": "markdown",
   "metadata": {
    "id": "VUC88oWjTJw2"
   },
   "source": [
    "Сравнение Москвы и Петербурга окружено мифами. Например:\n",
    " * Москва — мегаполис, подчинённый жёсткому ритму рабочей недели;\n",
    " * Петербург — культурная столица, со своими вкусами.\n",
    "\n",
    "На данных Яндекс.Музыки мы сравним поведение пользователей двух столиц.\n",
    "\n",
    "**Цель исследования** — проверить три гипотезы:\n",
    "1. Активность пользователей зависит от дня недели. Причём в Москве и Петербурге это проявляется по-разному.\n",
    "2. В понедельник утром в Москве преобладают одни жанры, а в Петербурге — другие. Так же и вечером пятницы преобладают разные жанры — в зависимости от города. \n",
    "3. Москва и Петербург предпочитают разные жанры музыки. В Москве чаще слушают поп-музыку, в Петербурге — русский рэп.\n",
    "\n",
    "**Ход исследования**\n",
    "\n",
    "Данные о поведении пользователей мы получим из файла `yandex_music_project.csv`. О качестве данных ничего не известно. Поэтому перед проверкой гипотез понадобится обзор данных. \n",
    "\n",
    "Мы проверим данные на ошибки и оценим их влияние на исследование. Затем, на этапе предобработки мы поищем возможность исправить самые критичные ошибки данных.\n",
    " \n",
    "Таким образом, исследование пройдёт в три этапа:\n",
    " 1. Обзор данных.\n",
    " 2. Предобработка данных.\n",
    " 3. Проверка гипотез.\n",
    "\n"
   ]
  },
  {
   "cell_type": "markdown",
   "metadata": {
    "id": "Ml1hmfXC_Zcs"
   },
   "source": [
    "## Обзор данных\n",
    "\n",
    "Составим первое представление о данных Яндекс.Музыки.\n",
    "\n",
    "\n"
   ]
  },
  {
   "cell_type": "markdown",
   "metadata": {
    "id": "57eAOGIz_Zcs"
   },
   "source": [
    "Основной инструмент аналитика — `pandas`. Импортируем эту библиотеку."
   ]
  },
  {
   "cell_type": "code",
   "execution_count": 1,
   "metadata": {
    "id": "AXN7PHPN_Zcs"
   },
   "outputs": [],
   "source": [
    "# импорт библиотеки pandas\n",
    "import pandas as pd"
   ]
  },
  {
   "cell_type": "markdown",
   "metadata": {
    "id": "SG23P8tt_Zcs"
   },
   "source": [
    "Прочитаем файл `yandex_music_project.csv` из папки `/datasets` и сохраним его в переменной `df`:"
   ]
  },
  {
   "cell_type": "code",
   "execution_count": 2,
   "metadata": {
    "id": "fFVu7vqh_Zct"
   },
   "outputs": [],
   "source": [
    "# чтение файла с данными и сохранение в df\n",
    "df = pd.read_csv('/datasets/yandex_music_project.csv')"
   ]
  },
  {
   "cell_type": "markdown",
   "metadata": {
    "id": "rDoOMd3uTqnZ"
   },
   "source": [
    "Выведем на экран первые десять строк таблицы:"
   ]
  },
  {
   "cell_type": "code",
   "execution_count": 3,
   "metadata": {
    "id": "oWTVX3gW_Zct"
   },
   "outputs": [
    {
     "data": {
      "text/html": [
       "<div>\n",
       "<style scoped>\n",
       "    .dataframe tbody tr th:only-of-type {\n",
       "        vertical-align: middle;\n",
       "    }\n",
       "\n",
       "    .dataframe tbody tr th {\n",
       "        vertical-align: top;\n",
       "    }\n",
       "\n",
       "    .dataframe thead th {\n",
       "        text-align: right;\n",
       "    }\n",
       "</style>\n",
       "<table border=\"1\" class=\"dataframe\">\n",
       "  <thead>\n",
       "    <tr style=\"text-align: right;\">\n",
       "      <th></th>\n",
       "      <th>userID</th>\n",
       "      <th>Track</th>\n",
       "      <th>artist</th>\n",
       "      <th>genre</th>\n",
       "      <th>City</th>\n",
       "      <th>time</th>\n",
       "      <th>Day</th>\n",
       "    </tr>\n",
       "  </thead>\n",
       "  <tbody>\n",
       "    <tr>\n",
       "      <th>0</th>\n",
       "      <td>FFB692EC</td>\n",
       "      <td>Kamigata To Boots</td>\n",
       "      <td>The Mass Missile</td>\n",
       "      <td>rock</td>\n",
       "      <td>Saint-Petersburg</td>\n",
       "      <td>20:28:33</td>\n",
       "      <td>Wednesday</td>\n",
       "    </tr>\n",
       "    <tr>\n",
       "      <th>1</th>\n",
       "      <td>55204538</td>\n",
       "      <td>Delayed Because of Accident</td>\n",
       "      <td>Andreas Rönnberg</td>\n",
       "      <td>rock</td>\n",
       "      <td>Moscow</td>\n",
       "      <td>14:07:09</td>\n",
       "      <td>Friday</td>\n",
       "    </tr>\n",
       "    <tr>\n",
       "      <th>2</th>\n",
       "      <td>20EC38</td>\n",
       "      <td>Funiculì funiculà</td>\n",
       "      <td>Mario Lanza</td>\n",
       "      <td>pop</td>\n",
       "      <td>Saint-Petersburg</td>\n",
       "      <td>20:58:07</td>\n",
       "      <td>Wednesday</td>\n",
       "    </tr>\n",
       "    <tr>\n",
       "      <th>3</th>\n",
       "      <td>A3DD03C9</td>\n",
       "      <td>Dragons in the Sunset</td>\n",
       "      <td>Fire + Ice</td>\n",
       "      <td>folk</td>\n",
       "      <td>Saint-Petersburg</td>\n",
       "      <td>08:37:09</td>\n",
       "      <td>Monday</td>\n",
       "    </tr>\n",
       "    <tr>\n",
       "      <th>4</th>\n",
       "      <td>E2DC1FAE</td>\n",
       "      <td>Soul People</td>\n",
       "      <td>Space Echo</td>\n",
       "      <td>dance</td>\n",
       "      <td>Moscow</td>\n",
       "      <td>08:34:34</td>\n",
       "      <td>Monday</td>\n",
       "    </tr>\n",
       "    <tr>\n",
       "      <th>5</th>\n",
       "      <td>842029A1</td>\n",
       "      <td>Преданная</td>\n",
       "      <td>IMPERVTOR</td>\n",
       "      <td>rusrap</td>\n",
       "      <td>Saint-Petersburg</td>\n",
       "      <td>13:09:41</td>\n",
       "      <td>Friday</td>\n",
       "    </tr>\n",
       "    <tr>\n",
       "      <th>6</th>\n",
       "      <td>4CB90AA5</td>\n",
       "      <td>True</td>\n",
       "      <td>Roman Messer</td>\n",
       "      <td>dance</td>\n",
       "      <td>Moscow</td>\n",
       "      <td>13:00:07</td>\n",
       "      <td>Wednesday</td>\n",
       "    </tr>\n",
       "    <tr>\n",
       "      <th>7</th>\n",
       "      <td>F03E1C1F</td>\n",
       "      <td>Feeling This Way</td>\n",
       "      <td>Polina Griffith</td>\n",
       "      <td>dance</td>\n",
       "      <td>Moscow</td>\n",
       "      <td>20:47:49</td>\n",
       "      <td>Wednesday</td>\n",
       "    </tr>\n",
       "    <tr>\n",
       "      <th>8</th>\n",
       "      <td>8FA1D3BE</td>\n",
       "      <td>И вновь продолжается бой</td>\n",
       "      <td>NaN</td>\n",
       "      <td>ruspop</td>\n",
       "      <td>Moscow</td>\n",
       "      <td>09:17:40</td>\n",
       "      <td>Friday</td>\n",
       "    </tr>\n",
       "    <tr>\n",
       "      <th>9</th>\n",
       "      <td>E772D5C0</td>\n",
       "      <td>Pessimist</td>\n",
       "      <td>NaN</td>\n",
       "      <td>dance</td>\n",
       "      <td>Saint-Petersburg</td>\n",
       "      <td>21:20:49</td>\n",
       "      <td>Wednesday</td>\n",
       "    </tr>\n",
       "  </tbody>\n",
       "</table>\n",
       "</div>"
      ],
      "text/plain": [
       "     userID                        Track            artist   genre  \\\n",
       "0  FFB692EC            Kamigata To Boots  The Mass Missile    rock   \n",
       "1  55204538  Delayed Because of Accident  Andreas Rönnberg    rock   \n",
       "2    20EC38            Funiculì funiculà       Mario Lanza     pop   \n",
       "3  A3DD03C9        Dragons in the Sunset        Fire + Ice    folk   \n",
       "4  E2DC1FAE                  Soul People        Space Echo   dance   \n",
       "5  842029A1                    Преданная         IMPERVTOR  rusrap   \n",
       "6  4CB90AA5                         True      Roman Messer   dance   \n",
       "7  F03E1C1F             Feeling This Way   Polina Griffith   dance   \n",
       "8  8FA1D3BE     И вновь продолжается бой               NaN  ruspop   \n",
       "9  E772D5C0                    Pessimist               NaN   dance   \n",
       "\n",
       "             City        time        Day  \n",
       "0  Saint-Petersburg  20:28:33  Wednesday  \n",
       "1            Moscow  14:07:09     Friday  \n",
       "2  Saint-Petersburg  20:58:07  Wednesday  \n",
       "3  Saint-Petersburg  08:37:09     Monday  \n",
       "4            Moscow  08:34:34     Monday  \n",
       "5  Saint-Petersburg  13:09:41     Friday  \n",
       "6            Moscow  13:00:07  Wednesday  \n",
       "7            Moscow  20:47:49  Wednesday  \n",
       "8            Moscow  09:17:40     Friday  \n",
       "9  Saint-Petersburg  21:20:49  Wednesday  "
      ]
     },
     "metadata": {},
     "output_type": "display_data"
    }
   ],
   "source": [
    "# получение первых 10 строк таблицы df\n",
    "display(df.head(10))"
   ]
  },
  {
   "cell_type": "markdown",
   "metadata": {
    "id": "EO73Kwic_Zct"
   },
   "source": [
    "Одной командой получим общую информацию о таблице:"
   ]
  },
  {
   "cell_type": "code",
   "execution_count": 4,
   "metadata": {
    "id": "DSf2kIb-_Zct"
   },
   "outputs": [
    {
     "name": "stdout",
     "output_type": "stream",
     "text": [
      "<class 'pandas.core.frame.DataFrame'>\n",
      "RangeIndex: 65079 entries, 0 to 65078\n",
      "Data columns (total 7 columns):\n",
      " #   Column    Non-Null Count  Dtype \n",
      "---  ------    --------------  ----- \n",
      " 0     userID  65079 non-null  object\n",
      " 1   Track     63848 non-null  object\n",
      " 2   artist    57876 non-null  object\n",
      " 3   genre     63881 non-null  object\n",
      " 4     City    65079 non-null  object\n",
      " 5   time      65079 non-null  object\n",
      " 6   Day       65079 non-null  object\n",
      "dtypes: object(7)\n",
      "memory usage: 3.5+ MB\n"
     ]
    }
   ],
   "source": [
    "# получение общей информации о данных в таблице df\n",
    "df.info()"
   ]
  },
  {
   "cell_type": "markdown",
   "metadata": {
    "id": "TaQ2Iwbr_Zct"
   },
   "source": [
    "Итак, в таблице семь столбцов. Тип данных во всех столбцах — `object`.\n",
    "\n",
    "Согласно документации к данным:\n",
    "* `userID` — идентификатор пользователя;\n",
    "* `Track` — название трека;  \n",
    "* `artist` — имя исполнителя;\n",
    "* `genre` — название жанра;\n",
    "* `City` — город пользователя;\n",
    "* `time` — время начала прослушивания;\n",
    "* `Day` — день недели.\n",
    "\n",
    "В названиях колонок видны три нарушения стиля:\n",
    "1. Строчные буквы сочетаются с прописными.\n",
    "2. Встречаются пробелы.\n",
    "3. Несколько слов написаны слитно\n",
    "\n",
    "\n",
    "Количество значений в столбцах различается. Значит, в данных есть пропущенные значения.\n"
   ]
  },
  {
   "cell_type": "markdown",
   "metadata": {
    "id": "MCB6-dXG_Zct"
   },
   "source": [
    "**Выводы**\n",
    "\n",
    "В каждой строке таблицы — данные о прослушанном треке. Часть колонок описывает саму композицию: название, исполнителя и жанр. Остальные данные рассказывают о пользователе: из какого он города, когда он слушал музыку. \n",
    "\n",
    "Предварительно можно утверждать, что, данных достаточно для проверки гипотез. Но встречаются пропуски в данных, а в названиях колонок — расхождения с хорошим стилем.\n",
    "\n",
    "Чтобы двигаться дальше, нужно устранить проблемы в данных."
   ]
  },
  {
   "cell_type": "markdown",
   "metadata": {
    "id": "SjYF6Ub9_Zct"
   },
   "source": [
    "## Предобработка данных\n",
    "Исправим стиль в заголовках столбцов, исключим пропуски. Затем проверим данные на дубликаты."
   ]
  },
  {
   "cell_type": "markdown",
   "metadata": {
    "id": "dIaKXr29_Zct"
   },
   "source": [
    "### Стиль заголовков\n",
    "Выведем на экран названия столбцов:"
   ]
  },
  {
   "cell_type": "code",
   "execution_count": 5,
   "metadata": {
    "id": "oKOTdF_Q_Zct"
   },
   "outputs": [
    {
     "data": {
      "text/plain": [
       "Index(['  userID', 'Track', 'artist', 'genre', '  City  ', 'time', 'Day'], dtype='object')"
      ]
     },
     "execution_count": 5,
     "metadata": {},
     "output_type": "execute_result"
    }
   ],
   "source": [
    "# перечень названий столбцов таблицы df\n",
    "df.columns"
   ]
  },
  {
   "cell_type": "markdown",
   "metadata": {
    "id": "zj5534cv_Zct"
   },
   "source": [
    "Приведем названия в соответствие с хорошим стилем:\n",
    "* несколько слов в названии запишите в «змеином_регистре»,\n",
    "* все символы сделайте строчными,\n",
    "* устраните пробелы.\n",
    "\n",
    "Для этого переименуем колонки так:\n",
    "* `'  userID'` → `'user_id'`;\n",
    "* `'Track'` → `'track'`;\n",
    "* `'  City  '` → `'city'`;\n",
    "* `'Day'` → `'day'`."
   ]
  },
  {
   "cell_type": "code",
   "execution_count": 6,
   "metadata": {
    "id": "ISlFqs5y_Zct",
    "scrolled": false
   },
   "outputs": [],
   "source": [
    "# переименование столбцов\n",
    "df = df.rename(columns={'  userID': 'user_id', 'Track': 'track', '  City  ': 'city', 'Day': 'day'})"
   ]
  },
  {
   "cell_type": "code",
   "execution_count": 7,
   "metadata": {},
   "outputs": [],
   "source": [
    "df = df.rename(columns = {\n",
    "    '  userID':'user_id',\n",
    "    'Track':'track',\n",
    "    '  City  ':'city',\n",
    "    'Day':'day'})"
   ]
  },
  {
   "cell_type": "markdown",
   "metadata": {
    "id": "1dqbh00J_Zct"
   },
   "source": [
    "Проверим результат. Для этого ещё раз выведем на экран названия столбцов:"
   ]
  },
  {
   "cell_type": "code",
   "execution_count": 8,
   "metadata": {
    "id": "d4NOAmTW_Zct"
   },
   "outputs": [
    {
     "data": {
      "text/plain": [
       "Index(['user_id', 'track', 'artist', 'genre', 'city', 'time', 'day'], dtype='object')"
      ]
     },
     "execution_count": 8,
     "metadata": {},
     "output_type": "execute_result"
    }
   ],
   "source": [
    "# проверка результатов - перечень названий столбцов\n",
    "df.columns"
   ]
  },
  {
   "cell_type": "markdown",
   "metadata": {
    "id": "5ISfbcfY_Zct"
   },
   "source": [
    "### Пропуски значений\n",
    "Сначала посчитаем, сколько в таблице пропущенных значений. Для этого достаточно двух методов `pandas`:"
   ]
  },
  {
   "cell_type": "code",
   "execution_count": 9,
   "metadata": {
    "id": "RskX29qr_Zct"
   },
   "outputs": [
    {
     "data": {
      "text/plain": [
       "user_id       0\n",
       "track      1231\n",
       "artist     7203\n",
       "genre      1198\n",
       "city          0\n",
       "time          0\n",
       "day           0\n",
       "dtype: int64"
      ]
     },
     "execution_count": 9,
     "metadata": {},
     "output_type": "execute_result"
    }
   ],
   "source": [
    "# подсчёт пропусков\n",
    "df.isna().sum()"
   ]
  },
  {
   "cell_type": "markdown",
   "metadata": {
    "id": "qubhgnlO_Zct"
   },
   "source": [
    "Не все пропущенные значения влияют на исследование. Так в `track` и `artist` пропуски не важны для нашей работы. Достаточно заменить их явными обозначениями.\n",
    "\n",
    "Но пропуски в `genre` могут помешать сравнению музыкальных вкусов в Москве и Санкт-Петербурге. На практике было бы правильно установить причину пропусков и восстановить данные. Такой возможности нет в учебном проекте. Придётся:\n",
    "* заполнить и эти пропуски явными обозначениями,\n",
    "* оценить, насколько они повредят расчётам. "
   ]
  },
  {
   "cell_type": "markdown",
   "metadata": {
    "id": "fSv2laPA_Zct"
   },
   "source": [
    "Заменим пропущенные значения в столбцах `track`, `artist` и `genre` на строку `'unknown'`. Для этого создадим список `columns_to_replace`, переберем его элементы циклом `for` и для каждого столбца выполним замену пропущенных значений:"
   ]
  },
  {
   "cell_type": "code",
   "execution_count": 10,
   "metadata": {
    "id": "KplB5qWs_Zct"
   },
   "outputs": [],
   "source": [
    "# перебор названий столбцов в цикле и замена пропущенных значений на 'unknown'\n",
    "columns_to_replace = ['track', 'artist', 'genre']\n",
    "for column in columns_to_replace:\n",
    "    df[column] = df[column].fillna('unknown')"
   ]
  },
  {
   "cell_type": "markdown",
   "metadata": {
    "id": "Ilsm-MZo_Zct"
   },
   "source": [
    "Убедимся, что в таблице не осталось пропусков. Для этого ещё раз посчитаем пропущенные значения."
   ]
  },
  {
   "cell_type": "code",
   "execution_count": 11,
   "metadata": {
    "id": "Tq4nYRX4_Zct"
   },
   "outputs": [
    {
     "data": {
      "text/plain": [
       "user_id    0\n",
       "track      0\n",
       "artist     0\n",
       "genre      0\n",
       "city       0\n",
       "time       0\n",
       "day        0\n",
       "dtype: int64"
      ]
     },
     "execution_count": 11,
     "metadata": {},
     "output_type": "execute_result"
    }
   ],
   "source": [
    "# подсчёт пропусков\n",
    "df.isna().sum()"
   ]
  },
  {
   "cell_type": "markdown",
   "metadata": {
    "id": "BWKRtBJ3_Zct"
   },
   "source": [
    "### Дубликаты\n",
    "Посчитаем явные дубликаты в таблице одной командой:"
   ]
  },
  {
   "cell_type": "code",
   "execution_count": 12,
   "metadata": {
    "id": "36eES_S0_Zct"
   },
   "outputs": [
    {
     "name": "stdout",
     "output_type": "stream",
     "text": [
      "Количество дубликатов: 3826\n"
     ]
    }
   ],
   "source": [
    "# подсчёт явных дубликатов\n",
    "print(\"Количество дубликатов: {}\".format(df.duplicated().sum()))"
   ]
  },
  {
   "cell_type": "markdown",
   "metadata": {
    "id": "Ot25h6XR_Zct"
   },
   "source": [
    "Вызовем специальный метод `pandas`, чтобы удалить явные дубликаты:"
   ]
  },
  {
   "cell_type": "code",
   "execution_count": 13,
   "metadata": {
    "id": "exFHq6tt_Zct",
    "scrolled": false
   },
   "outputs": [],
   "source": [
    "# удаление явных дубликатов (с удалением старых индексов и формированием новых)\n",
    "df = df.drop_duplicates().reset_index(drop=True)"
   ]
  },
  {
   "cell_type": "markdown",
   "metadata": {
    "id": "Im2YwBEG_Zct"
   },
   "source": [
    "Ещё раз посчитаем явные дубликаты в таблице — убедимся, что полностью от них избавились:"
   ]
  },
  {
   "cell_type": "code",
   "execution_count": 14,
   "metadata": {
    "id": "-8PuNWQ0_Zct"
   },
   "outputs": [
    {
     "name": "stdout",
     "output_type": "stream",
     "text": [
      "Количество дубликатов: 0\n"
     ]
    }
   ],
   "source": [
    "# проверка на отсутствие дубликатов\n",
    "print(\"Количество дубликатов: {}\".format(df.duplicated().sum()))"
   ]
  },
  {
   "cell_type": "markdown",
   "metadata": {
    "id": "QlFBsxAr_Zct"
   },
   "source": [
    "Теперь избавимся от неявных дубликатов в колонке `genre`. Например, название одного и того же жанра может быть записано немного по-разному. Такие ошибки тоже повлияют на результат исследования."
   ]
  },
  {
   "cell_type": "markdown",
   "metadata": {
    "id": "eSjWwsOh_Zct"
   },
   "source": [
    "Выведем на экран список уникальных названий жанров, отсортированный в алфавитном порядке. Для этого:\n",
    "* извлечем нужный столбец датафрейма, \n",
    "* применим к нему метод сортировки,\n",
    "* для отсортированного столбца вызовем метод, который вернёт уникальные значения из столбца."
   ]
  },
  {
   "cell_type": "code",
   "execution_count": 15,
   "metadata": {
    "id": "JIUcqzZN_Zct",
    "scrolled": true
   },
   "outputs": [
    {
     "data": {
      "text/plain": [
       "array(['acid', 'acoustic', 'action', 'adult', 'africa', 'afrikaans',\n",
       "       'alternative', 'alternativepunk', 'ambient', 'americana',\n",
       "       'animated', 'anime', 'arabesk', 'arabic', 'arena',\n",
       "       'argentinetango', 'art', 'audiobook', 'author', 'avantgarde',\n",
       "       'axé', 'baile', 'balkan', 'beats', 'bigroom', 'black', 'bluegrass',\n",
       "       'blues', 'bollywood', 'bossa', 'brazilian', 'breakbeat', 'breaks',\n",
       "       'broadway', 'cantautori', 'cantopop', 'canzone', 'caribbean',\n",
       "       'caucasian', 'celtic', 'chamber', 'chanson', 'children', 'chill',\n",
       "       'chinese', 'choral', 'christian', 'christmas', 'classical',\n",
       "       'classicmetal', 'club', 'colombian', 'comedy', 'conjazz',\n",
       "       'contemporary', 'country', 'cuban', 'dance', 'dancehall',\n",
       "       'dancepop', 'dark', 'death', 'deep', 'deutschrock', 'deutschspr',\n",
       "       'dirty', 'disco', 'dnb', 'documentary', 'downbeat', 'downtempo',\n",
       "       'drum', 'dub', 'dubstep', 'eastern', 'easy', 'electronic',\n",
       "       'electropop', 'emo', 'entehno', 'epicmetal', 'estrada', 'ethnic',\n",
       "       'eurofolk', 'european', 'experimental', 'extrememetal', 'fado',\n",
       "       'fairytail', 'film', 'fitness', 'flamenco', 'folk', 'folklore',\n",
       "       'folkmetal', 'folkrock', 'folktronica', 'forró', 'frankreich',\n",
       "       'französisch', 'french', 'funk', 'future', 'gangsta', 'garage',\n",
       "       'german', 'ghazal', 'gitarre', 'glitch', 'gospel', 'gothic',\n",
       "       'grime', 'grunge', 'gypsy', 'handsup', \"hard'n'heavy\", 'hardcore',\n",
       "       'hardstyle', 'hardtechno', 'hip', 'hip-hop', 'hiphop',\n",
       "       'historisch', 'holiday', 'hop', 'horror', 'house', 'hymn', 'idm',\n",
       "       'independent', 'indian', 'indie', 'indipop', 'industrial',\n",
       "       'inspirational', 'instrumental', 'international', 'irish', 'jam',\n",
       "       'japanese', 'jazz', 'jewish', 'jpop', 'jungle', 'k-pop',\n",
       "       'karadeniz', 'karaoke', 'kayokyoku', 'korean', 'laiko', 'latin',\n",
       "       'latino', 'leftfield', 'local', 'lounge', 'loungeelectronic',\n",
       "       'lovers', 'malaysian', 'mandopop', 'marschmusik', 'meditative',\n",
       "       'mediterranean', 'melodic', 'metal', 'metalcore', 'mexican',\n",
       "       'middle', 'minimal', 'miscellaneous', 'modern', 'mood', 'mpb',\n",
       "       'muslim', 'native', 'neoklassik', 'neue', 'new', 'newage',\n",
       "       'newwave', 'nu', 'nujazz', 'numetal', 'oceania', 'old', 'opera',\n",
       "       'orchestral', 'other', 'piano', 'podcasts', 'pop', 'popdance',\n",
       "       'popelectronic', 'popeurodance', 'poprussian', 'post',\n",
       "       'posthardcore', 'postrock', 'power', 'progmetal', 'progressive',\n",
       "       'psychedelic', 'punjabi', 'punk', 'quebecois', 'ragga', 'ram',\n",
       "       'rancheras', 'rap', 'rave', 'reggae', 'reggaeton', 'regional',\n",
       "       'relax', 'religious', 'retro', 'rhythm', 'rnb', 'rnr', 'rock',\n",
       "       'rockabilly', 'rockalternative', 'rockindie', 'rockother',\n",
       "       'romance', 'roots', 'ruspop', 'rusrap', 'rusrock', 'russian',\n",
       "       'salsa', 'samba', 'scenic', 'schlager', 'self', 'sertanejo',\n",
       "       'shanson', 'shoegazing', 'showtunes', 'singer', 'ska', 'skarock',\n",
       "       'slow', 'smooth', 'soft', 'soul', 'soulful', 'sound', 'soundtrack',\n",
       "       'southern', 'specialty', 'speech', 'spiritual', 'sport',\n",
       "       'stonerrock', 'surf', 'swing', 'synthpop', 'synthrock',\n",
       "       'sängerportrait', 'tango', 'tanzorchester', 'taraftar', 'tatar',\n",
       "       'tech', 'techno', 'teen', 'thrash', 'top', 'traditional',\n",
       "       'tradjazz', 'trance', 'tribal', 'trip', 'triphop', 'tropical',\n",
       "       'türk', 'türkçe', 'ukrrock', 'unknown', 'urban', 'uzbek',\n",
       "       'variété', 'vi', 'videogame', 'vocal', 'western', 'world',\n",
       "       'worldbeat', 'ïîï', 'электроника'], dtype=object)"
      ]
     },
     "execution_count": 15,
     "metadata": {},
     "output_type": "execute_result"
    }
   ],
   "source": [
    "# Просмотр уникальных названий жанров\n",
    "df['genre'].sort_values().unique()"
   ]
  },
  {
   "cell_type": "markdown",
   "metadata": {
    "id": "qej-Qmuo_Zct"
   },
   "source": [
    "Просмотрим список и найдем неявные дубликаты названия `hiphop`. Это могут быть названия с ошибками или альтернативные названия того же жанра.\n",
    "\n",
    "Мы видим следующие неявные дубликаты:\n",
    "* *hip*,\n",
    "* *hop*,\n",
    "* *hip-hop*.\n",
    "\n",
    "Чтобы очистить от них таблицу, напишем функцию `replace_wrong_genres()` с двумя параметрами: \n",
    "* `wrong_genres` — список дубликатов,\n",
    "* `correct_genre` — строка с правильным значением.\n",
    "\n",
    "Функция должна исправить колонку `genre` в таблице `df`: заменить каждое значение из списка `wrong_genres` на значение из `correct_genre`."
   ]
  },
  {
   "cell_type": "code",
   "execution_count": 16,
   "metadata": {
    "id": "ErNDkmns_Zct"
   },
   "outputs": [],
   "source": [
    "# Функция для замены неявных дубликатов\n",
    "def replace_wrong_genres(wrong_genres, correct_genre):\n",
    "    for wrong_genre in wrong_genres:\n",
    "        df['genre'] = df['genre'].replace(wrong_genre, correct_genre)        "
   ]
  },
  {
   "cell_type": "markdown",
   "metadata": {
    "id": "aDoBJxbA_Zct"
   },
   "source": [
    "Вызовем `replace_wrong_genres()` и передадим ей такие аргументы, чтобы она устранила неявные дубликаты: вместо `hip`, `hop` и `hip-hop` в таблице должно быть значение `hiphop`:"
   ]
  },
  {
   "cell_type": "code",
   "execution_count": 17,
   "metadata": {
    "id": "YN5i2hpmSo09",
    "scrolled": true
   },
   "outputs": [],
   "source": [
    "# Устранение неявных дубликатов\n",
    "duplicates = ['hip', 'hop', 'hip-hop']\n",
    "genre = 'hiphop'\n",
    "replace_wrong_genres(duplicates, genre)"
   ]
  },
  {
   "cell_type": "markdown",
   "metadata": {
    "id": "zQKF16_RG15m"
   },
   "source": [
    "Проверим, что заменили неправильные названия:\n",
    "\n",
    "*   hip\n",
    "*   hop\n",
    "*   hip-hop\n",
    "\n",
    "Выведем отсортированный список уникальных значений столбца `genre`:"
   ]
  },
  {
   "cell_type": "code",
   "execution_count": 18,
   "metadata": {
    "id": "wvixALnFG15m",
    "scrolled": true
   },
   "outputs": [
    {
     "data": {
      "text/plain": [
       "array(['acid', 'acoustic', 'action', 'adult', 'africa', 'afrikaans',\n",
       "       'alternative', 'alternativepunk', 'ambient', 'americana',\n",
       "       'animated', 'anime', 'arabesk', 'arabic', 'arena',\n",
       "       'argentinetango', 'art', 'audiobook', 'author', 'avantgarde',\n",
       "       'axé', 'baile', 'balkan', 'beats', 'bigroom', 'black', 'bluegrass',\n",
       "       'blues', 'bollywood', 'bossa', 'brazilian', 'breakbeat', 'breaks',\n",
       "       'broadway', 'cantautori', 'cantopop', 'canzone', 'caribbean',\n",
       "       'caucasian', 'celtic', 'chamber', 'chanson', 'children', 'chill',\n",
       "       'chinese', 'choral', 'christian', 'christmas', 'classical',\n",
       "       'classicmetal', 'club', 'colombian', 'comedy', 'conjazz',\n",
       "       'contemporary', 'country', 'cuban', 'dance', 'dancehall',\n",
       "       'dancepop', 'dark', 'death', 'deep', 'deutschrock', 'deutschspr',\n",
       "       'dirty', 'disco', 'dnb', 'documentary', 'downbeat', 'downtempo',\n",
       "       'drum', 'dub', 'dubstep', 'eastern', 'easy', 'electronic',\n",
       "       'electropop', 'emo', 'entehno', 'epicmetal', 'estrada', 'ethnic',\n",
       "       'eurofolk', 'european', 'experimental', 'extrememetal', 'fado',\n",
       "       'fairytail', 'film', 'fitness', 'flamenco', 'folk', 'folklore',\n",
       "       'folkmetal', 'folkrock', 'folktronica', 'forró', 'frankreich',\n",
       "       'französisch', 'french', 'funk', 'future', 'gangsta', 'garage',\n",
       "       'german', 'ghazal', 'gitarre', 'glitch', 'gospel', 'gothic',\n",
       "       'grime', 'grunge', 'gypsy', 'handsup', \"hard'n'heavy\", 'hardcore',\n",
       "       'hardstyle', 'hardtechno', 'hiphop', 'historisch', 'holiday',\n",
       "       'horror', 'house', 'hymn', 'idm', 'independent', 'indian', 'indie',\n",
       "       'indipop', 'industrial', 'inspirational', 'instrumental',\n",
       "       'international', 'irish', 'jam', 'japanese', 'jazz', 'jewish',\n",
       "       'jpop', 'jungle', 'k-pop', 'karadeniz', 'karaoke', 'kayokyoku',\n",
       "       'korean', 'laiko', 'latin', 'latino', 'leftfield', 'local',\n",
       "       'lounge', 'loungeelectronic', 'lovers', 'malaysian', 'mandopop',\n",
       "       'marschmusik', 'meditative', 'mediterranean', 'melodic', 'metal',\n",
       "       'metalcore', 'mexican', 'middle', 'minimal', 'miscellaneous',\n",
       "       'modern', 'mood', 'mpb', 'muslim', 'native', 'neoklassik', 'neue',\n",
       "       'new', 'newage', 'newwave', 'nu', 'nujazz', 'numetal', 'oceania',\n",
       "       'old', 'opera', 'orchestral', 'other', 'piano', 'podcasts', 'pop',\n",
       "       'popdance', 'popelectronic', 'popeurodance', 'poprussian', 'post',\n",
       "       'posthardcore', 'postrock', 'power', 'progmetal', 'progressive',\n",
       "       'psychedelic', 'punjabi', 'punk', 'quebecois', 'ragga', 'ram',\n",
       "       'rancheras', 'rap', 'rave', 'reggae', 'reggaeton', 'regional',\n",
       "       'relax', 'religious', 'retro', 'rhythm', 'rnb', 'rnr', 'rock',\n",
       "       'rockabilly', 'rockalternative', 'rockindie', 'rockother',\n",
       "       'romance', 'roots', 'ruspop', 'rusrap', 'rusrock', 'russian',\n",
       "       'salsa', 'samba', 'scenic', 'schlager', 'self', 'sertanejo',\n",
       "       'shanson', 'shoegazing', 'showtunes', 'singer', 'ska', 'skarock',\n",
       "       'slow', 'smooth', 'soft', 'soul', 'soulful', 'sound', 'soundtrack',\n",
       "       'southern', 'specialty', 'speech', 'spiritual', 'sport',\n",
       "       'stonerrock', 'surf', 'swing', 'synthpop', 'synthrock',\n",
       "       'sängerportrait', 'tango', 'tanzorchester', 'taraftar', 'tatar',\n",
       "       'tech', 'techno', 'teen', 'thrash', 'top', 'traditional',\n",
       "       'tradjazz', 'trance', 'tribal', 'trip', 'triphop', 'tropical',\n",
       "       'türk', 'türkçe', 'ukrrock', 'unknown', 'urban', 'uzbek',\n",
       "       'variété', 'vi', 'videogame', 'vocal', 'western', 'world',\n",
       "       'worldbeat', 'ïîï', 'электроника'], dtype=object)"
      ]
     },
     "execution_count": 18,
     "metadata": {},
     "output_type": "execute_result"
    }
   ],
   "source": [
    "# Проверка на неявные дубликаты\n",
    "df['genre'].sort_values().unique()"
   ]
  },
  {
   "cell_type": "markdown",
   "metadata": {
    "id": "jz6a9-7HQUDd"
   },
   "source": [
    "**Выводы**\n",
    "\n",
    "Предобработка обнаружила три проблемы в данных:\n",
    "\n",
    "- нарушения в стиле заголовков,\n",
    "- пропущенные значения,\n",
    "- дубликаты — явные и неявные.\n",
    "\n",
    "Мы исправили заголовки, чтобы упростить работу с таблицей. Без дубликатов исследование станет более точным.\n",
    "\n",
    "Пропущенные значения мы заменили на `'unknown'`. Ещё предстоит увидеть, не повредят ли исследованию пропуски в колонке `genre`.\n",
    "\n",
    "Теперь можно перейти к проверке гипотез. "
   ]
  },
  {
   "cell_type": "markdown",
   "metadata": {
    "id": "WttZHXH0SqKk"
   },
   "source": [
    "## Проверка гипотез"
   ]
  },
  {
   "cell_type": "markdown",
   "metadata": {
    "id": "Im936VVi_Zcu"
   },
   "source": [
    "### Сравнение поведения пользователей двух столиц"
   ]
  },
  {
   "cell_type": "markdown",
   "metadata": {
    "id": "nwt_MuaL_Zcu"
   },
   "source": [
    "Первая гипотеза утверждает, что пользователи по-разному слушают музыку в Москве и Санкт-Петербурге. Проверим это предположение по данным о трёх днях недели — понедельнике, среде и пятнице. Для этого:\n",
    "\n",
    "* Разделим пользователей Москвы и Санкт-Петербурга\n",
    "* Сравним, сколько треков послушала каждая группа пользователей в понедельник, среду и пятницу.\n"
   ]
  },
  {
   "cell_type": "markdown",
   "metadata": {
    "id": "8Dw_YMmT_Zcu"
   },
   "source": [
    "Для тренировки сначала выполним каждый из расчётов по отдельности. \n",
    "\n",
    "Оценим активность пользователей в каждом городе. Сгруппируем данные по городу и посчитаем прослушивания в каждой группе.\n",
    "\n"
   ]
  },
  {
   "cell_type": "code",
   "execution_count": 19,
   "metadata": {
    "id": "0_Qs96oh_Zcu",
    "scrolled": false
   },
   "outputs": [
    {
     "data": {
      "text/plain": [
       "city\n",
       "Moscow              42741\n",
       "Saint-Petersburg    18512\n",
       "Name: user_id, dtype: int64"
      ]
     },
     "execution_count": 19,
     "metadata": {},
     "output_type": "execute_result"
    }
   ],
   "source": [
    "# Подсчёт прослушиваний в каждом городе\n",
    "df.groupby('city')['user_id'].count()"
   ]
  },
  {
   "cell_type": "markdown",
   "metadata": {
    "id": "dzli3w8o_Zcu"
   },
   "source": [
    "В Москве прослушиваний больше, чем в Петербурге. Из этого не следует, что московские пользователи чаще слушают музыку. Просто самих пользователей в Москве больше.\n",
    "\n",
    "Теперь сгруппируем данные по дню недели и подсчитаем прослушивания в понедельник, среду и пятницу. Учтем, что в данных есть информация о прослушиваниях только за эти дни.\n"
   ]
  },
  {
   "cell_type": "code",
   "execution_count": 20,
   "metadata": {
    "id": "uZMKjiJz_Zcu"
   },
   "outputs": [
    {
     "data": {
      "text/plain": [
       "day\n",
       "Friday       21840\n",
       "Monday       21354\n",
       "Wednesday    18059\n",
       "Name: user_id, dtype: int64"
      ]
     },
     "execution_count": 20,
     "metadata": {},
     "output_type": "execute_result"
    }
   ],
   "source": [
    "# Подсчёт прослушиваний в каждый из трёх дней\n",
    "df.groupby('day')['user_id'].count()"
   ]
  },
  {
   "cell_type": "markdown",
   "metadata": {
    "id": "cC2tNrlL_Zcu"
   },
   "source": [
    "В среднем пользователи из двух городов менее активны по средам. Но картина может измениться, если рассмотреть каждый город в отдельности."
   ]
  },
  {
   "cell_type": "markdown",
   "metadata": {
    "id": "POzs8bGa_Zcu"
   },
   "source": [
    "Мы видели, как работает группировка по городу и по дням недели. Теперь напишем функцию, которая объединит два эти расчёта.\n",
    "\n",
    "Создадим функцию `number_tracks()`, которая посчитает прослушивания для заданного дня и города. Ей понадобятся два параметра:\n",
    "* день недели,\n",
    "* название города.\n",
    "\n",
    "В функции сохраним в переменную строки исходной таблицы, у которых значение:\n",
    "  * в колонке `day` равно параметру `day`,\n",
    "  * в колонке `city` равно параметру `city`.\n",
    "\n",
    "Для этого применим последовательную фильтрацию с логической индексацией.\n",
    "\n",
    "Затем посчитаем значения в столбце `user_id` получившейся таблицы. Результат сохраним в новую переменную. Вернем эту переменную из функции."
   ]
  },
  {
   "cell_type": "code",
   "execution_count": 21,
   "metadata": {
    "id": "Nz3GdQB1_Zcu"
   },
   "outputs": [],
   "source": [
    "# <создание функции number_tracks()>\n",
    "# Объявляется функция с двумя параметрами: day, city.\n",
    "# В переменной track_list сохраняются те строки таблицы df, для которых \n",
    "# значение в столбце 'day' равно параметру day и одновременно значение\n",
    "# в столбце 'city' равно параметру city (используйте последовательную фильтрацию\n",
    "# с помощью логической индексации).\n",
    "# В переменной track_list_count сохраняется число значений столбца 'user_id',\n",
    "# рассчитанное методом count() для таблицы track_list.\n",
    "# Функция возвращает число - значение track_list_count.\n",
    "\n",
    "\n",
    "def number_tracks(day, city):# Функция для подсчёта прослушиваний для конкретного города и дня.\n",
    "# С помощью последовательной фильтрации с логической индексацией она \n",
    "    track_list = df[df['day'] == day]# сначала получит из исходной таблицы строки с нужным днём,\n",
    "    track_list = track_list[track_list['city'] == city]# затем из результата отфильтрует строки с нужным городом,\n",
    "    track_list_count = track_list['user_id'].count()# методом count() посчитает количество значений в колонке user_id. \n",
    "    return track_list_count# Это количество функция вернёт в качестве результата"
   ]
  },
  {
   "cell_type": "markdown",
   "metadata": {
    "id": "ytf7xFrFJQ2r"
   },
   "source": [
    "Вызовем `number_tracks()` шесть раз, меняя значение параметров — так, чтобы получить данные для каждого города в каждый из трёх дней."
   ]
  },
  {
   "cell_type": "code",
   "execution_count": 22,
   "metadata": {
    "id": "rJcRATNQ_Zcu"
   },
   "outputs": [
    {
     "data": {
      "text/plain": [
       "15740"
      ]
     },
     "execution_count": 22,
     "metadata": {},
     "output_type": "execute_result"
    }
   ],
   "source": [
    "# количество прослушиваний в Москве по понедельникам\n",
    "number_tracks('Monday', 'Moscow')"
   ]
  },
  {
   "cell_type": "code",
   "execution_count": 23,
   "metadata": {
    "id": "hq_ncZ5T_Zcu"
   },
   "outputs": [
    {
     "data": {
      "text/plain": [
       "5614"
      ]
     },
     "execution_count": 23,
     "metadata": {},
     "output_type": "execute_result"
    }
   ],
   "source": [
    "# количество прослушиваний в Санкт-Петербурге по понедельникам\n",
    "number_tracks('Monday', 'Saint-Petersburg')"
   ]
  },
  {
   "cell_type": "code",
   "execution_count": 24,
   "metadata": {
    "id": "_NTy2VPU_Zcu"
   },
   "outputs": [
    {
     "data": {
      "text/plain": [
       "11056"
      ]
     },
     "execution_count": 24,
     "metadata": {},
     "output_type": "execute_result"
    }
   ],
   "source": [
    "# количество прослушиваний в Москве по средам\n",
    "number_tracks('Wednesday', 'Moscow')"
   ]
  },
  {
   "cell_type": "code",
   "execution_count": 25,
   "metadata": {
    "id": "j2y3TAwo_Zcu"
   },
   "outputs": [
    {
     "data": {
      "text/plain": [
       "7003"
      ]
     },
     "execution_count": 25,
     "metadata": {},
     "output_type": "execute_result"
    }
   ],
   "source": [
    "# количество прослушиваний в Санкт-Петербурге по средам\n",
    "number_tracks('Wednesday', 'Saint-Petersburg')"
   ]
  },
  {
   "cell_type": "code",
   "execution_count": 26,
   "metadata": {
    "id": "vYDw5u_K_Zcu"
   },
   "outputs": [
    {
     "data": {
      "text/plain": [
       "15945"
      ]
     },
     "execution_count": 26,
     "metadata": {},
     "output_type": "execute_result"
    }
   ],
   "source": [
    "# количество прослушиваний в Москве по пятницам\n",
    "number_tracks('Friday', 'Moscow')"
   ]
  },
  {
   "cell_type": "code",
   "execution_count": 27,
   "metadata": {
    "id": "8_yzFtW3_Zcu"
   },
   "outputs": [
    {
     "data": {
      "text/plain": [
       "5895"
      ]
     },
     "execution_count": 27,
     "metadata": {},
     "output_type": "execute_result"
    }
   ],
   "source": [
    "# количество прослушиваний в Санкт-Петербурге по пятницам\n",
    "number_tracks('Friday', 'Saint-Petersburg')"
   ]
  },
  {
   "cell_type": "markdown",
   "metadata": {
    "id": "7QXffbO-_Zcu"
   },
   "source": [
    "Создадим c помощью конструктора `pd.DataFrame` таблицу, где\n",
    "* названия колонок — `['city', 'monday', 'wednesday', 'friday']`;\n",
    "* данные — результаты, которые мы получили с помощью `number_tracks`."
   ]
  },
  {
   "cell_type": "code",
   "execution_count": 28,
   "metadata": {
    "id": "APAcLpOr_Zcu"
   },
   "outputs": [
    {
     "data": {
      "text/html": [
       "<div>\n",
       "<style scoped>\n",
       "    .dataframe tbody tr th:only-of-type {\n",
       "        vertical-align: middle;\n",
       "    }\n",
       "\n",
       "    .dataframe tbody tr th {\n",
       "        vertical-align: top;\n",
       "    }\n",
       "\n",
       "    .dataframe thead th {\n",
       "        text-align: right;\n",
       "    }\n",
       "</style>\n",
       "<table border=\"1\" class=\"dataframe\">\n",
       "  <thead>\n",
       "    <tr style=\"text-align: right;\">\n",
       "      <th></th>\n",
       "      <th>city</th>\n",
       "      <th>monday</th>\n",
       "      <th>wednesday</th>\n",
       "      <th>friday</th>\n",
       "    </tr>\n",
       "  </thead>\n",
       "  <tbody>\n",
       "    <tr>\n",
       "      <th>0</th>\n",
       "      <td>Moscow</td>\n",
       "      <td>15740</td>\n",
       "      <td>11056</td>\n",
       "      <td>15945</td>\n",
       "    </tr>\n",
       "    <tr>\n",
       "      <th>1</th>\n",
       "      <td>Saint-Petersburg</td>\n",
       "      <td>5614</td>\n",
       "      <td>7003</td>\n",
       "      <td>5895</td>\n",
       "    </tr>\n",
       "  </tbody>\n",
       "</table>\n",
       "</div>"
      ],
      "text/plain": [
       "               city  monday  wednesday  friday\n",
       "0            Moscow   15740      11056   15945\n",
       "1  Saint-Petersburg    5614       7003    5895"
      ]
     },
     "execution_count": 28,
     "metadata": {},
     "output_type": "execute_result"
    }
   ],
   "source": [
    "# Таблица с результатами\n",
    "columns = ['city', 'monday', 'wednesday', 'friday']\n",
    "data = [['Moscow', 15740, 11056, 15945], ['Saint-Petersburg', 5614, 7003, 5895]]\n",
    "pd.DataFrame(data=data, columns=columns)"
   ]
  },
  {
   "cell_type": "markdown",
   "metadata": {
    "id": "-EgPIHYu_Zcu"
   },
   "source": [
    "**Выводы**\n",
    "\n",
    "Данные показывают разницу поведения пользователей:\n",
    "\n",
    "- В Москве пик прослушиваний приходится на понедельник и пятницу, а в среду заметен спад.\n",
    "- В Петербурге, наоборот, больше слушают музыку по средам. Активность в понедельник и пятницу здесь почти в равной мере уступает среде.\n",
    "\n",
    "Значит, данные говорят в пользу первой гипотезы."
   ]
  },
  {
   "cell_type": "markdown",
   "metadata": {
    "id": "atZAxtq4_Zcu"
   },
   "source": [
    "### Музыка в начале и в конце недели"
   ]
  },
  {
   "cell_type": "markdown",
   "metadata": {
    "id": "eXrQqXFH_Zcu"
   },
   "source": [
    "Согласно второй гипотезе, утром в понедельник в Москве преобладают одни жанры, а в Петербурге — другие. Так же и вечером пятницы преобладают разные жанры — в зависимости от города."
   ]
  },
  {
   "cell_type": "markdown",
   "metadata": {
    "id": "S8UcW6Hw_Zcu"
   },
   "source": [
    "Сохраним таблицы с данными в две переменные:\n",
    "* по Москве — в `moscow_general`;\n",
    "* по Санкт-Петербургу — в `spb_general`."
   ]
  },
  {
   "cell_type": "code",
   "execution_count": 29,
   "metadata": {
    "id": "qeaFfM_P_Zcu"
   },
   "outputs": [],
   "source": [
    "# получение таблицы moscow_general из тех строк таблицы df, \n",
    "# для которых значение в столбце 'city' равно 'Moscow'\n",
    "moscow_general = df[df['city'] == 'Moscow']"
   ]
  },
  {
   "cell_type": "code",
   "execution_count": 30,
   "metadata": {
    "id": "ORaVRKto_Zcu"
   },
   "outputs": [],
   "source": [
    "# получение таблицы spb_general из тех строк таблицы df,\n",
    "# для которых значение в столбце 'city' равно 'Saint-Petersburg'\n",
    "spb_general = df[df['city'] == 'Saint-Petersburg']"
   ]
  },
  {
   "cell_type": "markdown",
   "metadata": {
    "id": "MEJV-CX2_Zcu"
   },
   "source": [
    "Создадим функцию `genre_weekday()` с четырьмя параметрами:\n",
    "* таблица (датафрейм) с данными,\n",
    "* день недели,\n",
    "* начальная временная метка в формате 'hh:mm', \n",
    "* последняя временная метка в формате 'hh:mm'.\n",
    "\n",
    "Функция должна вернуть информацию о топ-10 жанров тех треков, которые прослушивали в указанный день, в промежутке между двумя отметками времени."
   ]
  },
  {
   "cell_type": "code",
   "execution_count": 31,
   "metadata": {
    "id": "laJT9BYl_Zcu"
   },
   "outputs": [],
   "source": [
    "# Объявление функции genre_weekday() с параметрами table, day, time1, time2,\n",
    "# которая возвращает информацию о самых популярных жанрах в указанный день в\n",
    "# заданное время:\n",
    "def genre_weekday(table, day, time1, time2):\n",
    "# 1) в переменную genre_df сохраняются те строки переданного датафрейма table, для\n",
    "#    которых одновременно:\n",
    "#    - значение в столбце day равно значению аргумента day\n",
    "#    - значение в столбце time больше значения аргумента time1\n",
    "#    - значение в столбце time меньше значения аргумента time2\n",
    "#    Используйте последовательную фильтрацию с помощью логической индексации.\n",
    "    genre_df = table[table['day'] == day]\n",
    "    genre_df = genre_df[genre_df['time'] > time1]\n",
    "    genre_df = genre_df[genre_df['time'] < time2]\n",
    "# 2) сгруппировать датафрейм genre_df по столбцу genre, взять один из его\n",
    "#    столбцов и посчитать методом count() количество записей для каждого из\n",
    "#    присутствующих жанров, получившийся Series записать в переменную\n",
    "#    genre_df_count\n",
    "    genre_df_count = genre_df.groupby('genre')['user_id'].count()\n",
    "# 3) отсортировать genre_df_count по убыванию встречаемости и сохранить\n",
    "#    в переменную genre_df_sorted\n",
    "    genre_df_sorted = genre_df_count.sort_values(ascending=False)\n",
    "# 4) вернуть Series из 10 первых значений genre_df_sorted, это будут топ-10\n",
    "#    популярных жанров (в указанный день, в заданное время)\n",
    "    return genre_df_sorted.head(10)"
   ]
  },
  {
   "cell_type": "markdown",
   "metadata": {
    "id": "la2s2_PF_Zcu"
   },
   "source": [
    "Cравним результаты функции `genre_weekday()` для Москвы и Санкт-Петербурга в понедельник утром (с 7:00 до 11:00) и в пятницу вечером (с 17:00 до 23:00):"
   ]
  },
  {
   "cell_type": "code",
   "execution_count": 32,
   "metadata": {
    "id": "yz7itPUQ_Zcu"
   },
   "outputs": [
    {
     "data": {
      "text/plain": [
       "genre\n",
       "pop            781\n",
       "dance          549\n",
       "electronic     480\n",
       "rock           474\n",
       "hiphop         286\n",
       "ruspop         186\n",
       "world          181\n",
       "rusrap         175\n",
       "alternative    164\n",
       "unknown        161\n",
       "Name: user_id, dtype: int64"
      ]
     },
     "execution_count": 32,
     "metadata": {},
     "output_type": "execute_result"
    }
   ],
   "source": [
    "# вызов функции для утра понедельника в Москве (вместо df — таблица moscow_general)\n",
    "# объекты, хранящие время, являются строками и сравниваются как строки\n",
    "# пример вызова: genre_weekday(moscow_general, 'Monday', '07:00', '11:00')\n",
    "genre_weekday(moscow_general, 'Monday', '07:00', '11:00')"
   ]
  },
  {
   "cell_type": "code",
   "execution_count": 33,
   "metadata": {
    "id": "kwUcHPdy_Zcu"
   },
   "outputs": [
    {
     "data": {
      "text/plain": [
       "genre\n",
       "pop            218\n",
       "dance          182\n",
       "rock           162\n",
       "electronic     147\n",
       "hiphop          80\n",
       "ruspop          64\n",
       "alternative     58\n",
       "rusrap          55\n",
       "jazz            44\n",
       "classical       40\n",
       "Name: user_id, dtype: int64"
      ]
     },
     "execution_count": 33,
     "metadata": {},
     "output_type": "execute_result"
    }
   ],
   "source": [
    "# вызов функции для утра понедельника в Петербурге (вместо df — таблица spb_general)\n",
    "genre_weekday(spb_general, 'Monday', '07:00', '11:00')"
   ]
  },
  {
   "cell_type": "code",
   "execution_count": 34,
   "metadata": {
    "id": "EzXVRE1o_Zcu"
   },
   "outputs": [
    {
     "data": {
      "text/plain": [
       "genre\n",
       "pop            717\n",
       "dance          524\n",
       "rock           518\n",
       "electronic     485\n",
       "hiphop         238\n",
       "alternative    182\n",
       "classical      172\n",
       "world          172\n",
       "ruspop         149\n",
       "rusrap         133\n",
       "Name: user_id, dtype: int64"
      ]
     },
     "execution_count": 34,
     "metadata": {},
     "output_type": "execute_result"
    }
   ],
   "source": [
    "# вызов функции для вечера пятницы в Москве\n",
    "genre_weekday(moscow_general, 'Monday', '17:00', '23:00')"
   ]
  },
  {
   "cell_type": "code",
   "execution_count": 35,
   "metadata": {
    "id": "JZaEKu5v_Zcu"
   },
   "outputs": [
    {
     "data": {
      "text/plain": [
       "genre\n",
       "pop            263\n",
       "rock           208\n",
       "electronic     192\n",
       "dance          191\n",
       "hiphop         104\n",
       "alternative     72\n",
       "classical       71\n",
       "jazz            57\n",
       "rusrap          54\n",
       "ruspop          53\n",
       "Name: user_id, dtype: int64"
      ]
     },
     "execution_count": 35,
     "metadata": {},
     "output_type": "execute_result"
    }
   ],
   "source": [
    "# вызов функции для вечера пятницы в Петербурге\n",
    "genre_weekday(spb_general, 'Monday', '17:00', '23:00')"
   ]
  },
  {
   "cell_type": "markdown",
   "metadata": {
    "id": "wrCe4MNX_Zcu"
   },
   "source": [
    "**Выводы**\n",
    "\n",
    "Если сравнить топ-10 жанров в понедельник утром, можно сделать такие выводы:\n",
    "\n",
    "1. В Москве и Петербурге слушают похожую музыку. Единственное отличие — в московский рейтинг вошёл жанр “world”, а в петербургский — джаз и классика.\n",
    "\n",
    "2. В Москве пропущенных значений оказалось так много, что значение `'unknown'` заняло десятое место среди самых популярных жанров. Значит, пропущенные значения занимают существенную долю в данных и угрожают достоверности исследования.\n",
    "\n",
    "Вечер пятницы не меняет эту картину. Некоторые жанры поднимаются немного выше, другие спускаются, но в целом топ-10 остаётся тем же самым.\n",
    "\n",
    "Таким образом, вторая гипотеза подтвердилась лишь частично:\n",
    "* Пользователи слушают похожую музыку в начале недели и в конце.\n",
    "* Разница между Москвой и Петербургом не слишком выражена. В Москве чаще слушают русскую популярную музыку, в Петербурге — джаз.\n",
    "\n",
    "Однако пропуски в данных ставят под сомнение этот результат. В Москве их так много, что рейтинг топ-10 мог бы выглядеть иначе, если бы не утерянные  данные о жанрах."
   ]
  },
  {
   "cell_type": "markdown",
   "metadata": {
    "id": "JolODAqr_Zcu"
   },
   "source": [
    "### Жанровые предпочтения в Москве и Петербурге\n",
    "\n",
    "Гипотеза: Петербург — столица рэпа, музыку этого жанра там слушают чаще, чем в Москве.  А Москва — город контрастов, в котором, тем не менее, преобладает поп-музыка."
   ]
  },
  {
   "cell_type": "markdown",
   "metadata": {
    "id": "DlegSvaT_Zcu"
   },
   "source": [
    "Сгруппируем таблицу `moscow_general` по жанру и посчитаем прослушивания треков каждого жанра методом `count()`. Затем отсортируем результат в порядке убывания и сохраним его в таблице `moscow_genres`."
   ]
  },
  {
   "cell_type": "code",
   "execution_count": 36,
   "metadata": {
    "id": "r19lIPke_Zcu"
   },
   "outputs": [],
   "source": [
    "# одной строкой: группировка таблицы moscow_general по столбцу 'genre', \n",
    "# подсчёт числа значений 'genre' в этой группировке методом count(), \n",
    "# сортировка получившегося Series в порядке убывания и сохранение в moscow_genres\n",
    "moscow_genres = moscow_general.groupby('genre')['genre'].count().sort_values(ascending=False)"
   ]
  },
  {
   "cell_type": "markdown",
   "metadata": {
    "id": "6kMuomxTiIr8"
   },
   "source": [
    "Выведем на экран первые десять строк `moscow_genres`:"
   ]
  },
  {
   "cell_type": "code",
   "execution_count": 37,
   "metadata": {
    "id": "WhCSooF8_Zcv"
   },
   "outputs": [
    {
     "data": {
      "text/plain": [
       "genre\n",
       "pop            5892\n",
       "dance          4435\n",
       "rock           3965\n",
       "electronic     3786\n",
       "hiphop         2096\n",
       "classical      1616\n",
       "world          1432\n",
       "alternative    1379\n",
       "ruspop         1372\n",
       "rusrap         1161\n",
       "Name: genre, dtype: int64"
      ]
     },
     "execution_count": 37,
     "metadata": {},
     "output_type": "execute_result"
    }
   ],
   "source": [
    "# просмотр первых 10 строк moscow_genres\n",
    "moscow_genres.head(10)"
   ]
  },
  {
   "cell_type": "markdown",
   "metadata": {
    "id": "cnPG2vnN_Zcv"
   },
   "source": [
    "Теперь повторим то же и для Петербурга.\n",
    "\n",
    "Сгруппируем таблицу `spb_general` по жанру. Посчитаем прослушивания треков каждого жанра. Результат отсортируем в порядке убывания и сохраним в таблице `spb_genres`:\n"
   ]
  },
  {
   "cell_type": "code",
   "execution_count": 38,
   "metadata": {
    "id": "gluLIpE7_Zcv"
   },
   "outputs": [],
   "source": [
    "# одной строкой: группировка таблицы spb_general по столбцу 'genre', \n",
    "# подсчёт числа значений 'genre' в этой группировке методом count(), \n",
    "# сортировка получившегося Series в порядке убывания и сохранение в spb_genres\n",
    "spb_genres = spb_general.groupby('genre')['genre'].count().sort_values(ascending=False)"
   ]
  },
  {
   "cell_type": "markdown",
   "metadata": {
    "id": "5Doha_ODgyQ8"
   },
   "source": [
    "Выведем на экран первые десять строк `spb_genres`:"
   ]
  },
  {
   "cell_type": "code",
   "execution_count": 39,
   "metadata": {
    "id": "uaGJHjVU_Zcv"
   },
   "outputs": [
    {
     "data": {
      "text/plain": [
       "genre\n",
       "pop            2431\n",
       "dance          1932\n",
       "rock           1879\n",
       "electronic     1736\n",
       "hiphop          960\n",
       "alternative     649\n",
       "classical       646\n",
       "rusrap          564\n",
       "ruspop          538\n",
       "world           515\n",
       "Name: genre, dtype: int64"
      ]
     },
     "execution_count": 39,
     "metadata": {},
     "output_type": "execute_result"
    }
   ],
   "source": [
    "# просмотр первых 10 строк spb_genres\n",
    "spb_genres.head(10)"
   ]
  },
  {
   "cell_type": "markdown",
   "metadata": {
    "id": "RY51YJYu_Zcv"
   },
   "source": [
    "**Выводы**"
   ]
  },
  {
   "cell_type": "markdown",
   "metadata": {
    "id": "nVhnJEm__Zcv"
   },
   "source": [
    "Гипотеза частично подтвердилась:\n",
    "* Поп-музыка — самый популярный жанр в Москве, как и предполагала гипотеза. Более того, в топ-10 жанров встречается близкий жанр — русская популярная музыка.\n",
    "* Вопреки ожиданиям, рэп одинаково популярен в Москве и Петербурге. \n"
   ]
  },
  {
   "cell_type": "markdown",
   "metadata": {
    "id": "ykKQ0N65_Zcv"
   },
   "source": [
    "## Итоги исследования"
   ]
  },
  {
   "cell_type": "markdown",
   "metadata": {
    "id": "tjUwbHb3_Zcv"
   },
   "source": [
    "Мы проверили три гипотезы и установили:\n",
    "\n",
    "1. День недели по-разному влияет на активность пользователей в Москве и Петербурге. \n",
    "\n",
    "Первая гипотеза полностью подтвердилась.\n",
    "\n",
    "2. Музыкальные предпочтения не сильно меняются в течение недели — будь то Москва или Петербург. Небольшие различия заметны в начале недели, по понедельникам:\n",
    "* в Москве слушают музыку жанра “world”,\n",
    "* в Петербурге — джаз и классику.\n",
    "\n",
    "Таким образом, вторая гипотеза подтвердилась лишь отчасти. Этот результат мог оказаться иным, если бы не пропуски в данных.\n",
    "\n",
    "3. Во вкусах пользователей Москвы и Петербурга больше общего чем различий. Вопреки ожиданиям, предпочтения жанров в Петербурге напоминают московские.\n",
    "\n",
    "Третья гипотеза не подтвердилась. Если различия в предпочтениях и существуют, на основной массе пользователей они незаметны.\n",
    "\n",
    "**На практике исследования содержат проверки статистических гипотез.**\n",
    "Из данных одного сервиса не всегда можно сделать вывод о всех жителях города.\n",
    "Проверки статистических гипотез покажут, насколько они достоверны, исходя из имеющихся данных. \n",
    "С методами проверок гипотез мы ещё познакомимся в следующих темах."
   ]
  }
 ],
 "metadata": {
  "ExecuteTimeLog": [
   {
    "duration": 600,
    "start_time": "2021-11-21T07:00:24.573Z"
   },
   {
    "duration": 192,
    "start_time": "2021-11-21T07:06:26.632Z"
   },
   {
    "duration": 21,
    "start_time": "2021-11-21T07:06:32.122Z"
   },
   {
    "duration": 26,
    "start_time": "2021-11-21T07:07:07.981Z"
   },
   {
    "duration": 331,
    "start_time": "2021-11-21T07:18:00.389Z"
   },
   {
    "duration": 4,
    "start_time": "2021-11-21T07:20:18.403Z"
   },
   {
    "duration": 586,
    "start_time": "2021-11-21T07:24:09.770Z"
   },
   {
    "duration": 21,
    "start_time": "2021-11-21T07:24:50.517Z"
   },
   {
    "duration": 4,
    "start_time": "2021-11-21T07:24:56.904Z"
   },
   {
    "duration": 23,
    "start_time": "2021-11-21T07:26:21.464Z"
   },
   {
    "duration": 427,
    "start_time": "2021-11-21T18:02:51.649Z"
   },
   {
    "duration": 777,
    "start_time": "2021-11-21T18:06:38.553Z"
   },
   {
    "duration": 195,
    "start_time": "2021-11-21T18:06:53.356Z"
   },
   {
    "duration": 28,
    "start_time": "2021-11-21T18:06:59.381Z"
   },
   {
    "duration": 54,
    "start_time": "2021-11-21T18:07:03.528Z"
   },
   {
    "duration": 5,
    "start_time": "2021-11-21T18:07:20.047Z"
   },
   {
    "duration": 30,
    "start_time": "2021-11-21T18:07:35.429Z"
   },
   {
    "duration": 6,
    "start_time": "2021-11-21T18:07:39.544Z"
   },
   {
    "duration": 30,
    "start_time": "2021-11-21T18:07:44.191Z"
   },
   {
    "duration": 291,
    "start_time": "2021-11-21T18:07:50.484Z"
   },
   {
    "duration": 19,
    "start_time": "2021-11-21T18:08:15.475Z"
   },
   {
    "duration": 31,
    "start_time": "2021-11-21T18:08:23.564Z"
   },
   {
    "duration": 23,
    "start_time": "2021-11-21T18:09:40.194Z"
   },
   {
    "duration": 35,
    "start_time": "2021-11-21T18:09:44.776Z"
   },
   {
    "duration": 89,
    "start_time": "2021-11-21T18:13:41.416Z"
   },
   {
    "duration": 273,
    "start_time": "2021-11-21T18:16:06.226Z"
   },
   {
    "duration": 110,
    "start_time": "2021-11-21T18:16:53.690Z"
   },
   {
    "duration": 82,
    "start_time": "2021-11-21T18:17:34.612Z"
   },
   {
    "duration": 275,
    "start_time": "2021-11-21T18:18:16.233Z"
   },
   {
    "duration": 435,
    "start_time": "2021-11-21T18:19:23.099Z"
   },
   {
    "duration": 92,
    "start_time": "2021-11-21T18:19:52.543Z"
   },
   {
    "duration": 103,
    "start_time": "2021-11-21T18:20:00.380Z"
   },
   {
    "duration": 221,
    "start_time": "2021-11-22T10:44:47.756Z"
   },
   {
    "duration": 586,
    "start_time": "2021-11-22T10:46:52.212Z"
   },
   {
    "duration": 151,
    "start_time": "2021-11-22T10:46:52.800Z"
   },
   {
    "duration": 17,
    "start_time": "2021-11-22T10:46:52.953Z"
   },
   {
    "duration": 36,
    "start_time": "2021-11-22T10:46:52.972Z"
   },
   {
    "duration": 6,
    "start_time": "2021-11-22T10:46:53.011Z"
   },
   {
    "duration": 26,
    "start_time": "2021-11-22T10:46:53.019Z"
   },
   {
    "duration": 8,
    "start_time": "2021-11-22T10:46:53.047Z"
   },
   {
    "duration": 61,
    "start_time": "2021-11-22T10:46:53.057Z"
   },
   {
    "duration": 29,
    "start_time": "2021-11-22T10:46:53.120Z"
   },
   {
    "duration": 41,
    "start_time": "2021-11-22T10:46:53.152Z"
   },
   {
    "duration": 71,
    "start_time": "2021-11-22T10:46:53.195Z"
   },
   {
    "duration": 100,
    "start_time": "2021-11-22T10:46:53.268Z"
   },
   {
    "duration": 70,
    "start_time": "2021-11-22T10:46:53.370Z"
   },
   {
    "duration": 2,
    "start_time": "2021-11-22T10:47:09.129Z"
   },
   {
    "duration": 150,
    "start_time": "2021-11-22T10:47:09.133Z"
   },
   {
    "duration": 14,
    "start_time": "2021-11-22T10:47:09.291Z"
   },
   {
    "duration": 37,
    "start_time": "2021-11-22T10:47:09.307Z"
   },
   {
    "duration": 14,
    "start_time": "2021-11-22T10:47:09.346Z"
   },
   {
    "duration": 27,
    "start_time": "2021-11-22T10:47:09.362Z"
   },
   {
    "duration": 5,
    "start_time": "2021-11-22T10:47:09.392Z"
   },
   {
    "duration": 31,
    "start_time": "2021-11-22T10:47:09.400Z"
   },
   {
    "duration": 19,
    "start_time": "2021-11-22T10:47:09.433Z"
   },
   {
    "duration": 39,
    "start_time": "2021-11-22T10:47:09.454Z"
   },
   {
    "duration": 69,
    "start_time": "2021-11-22T10:47:09.495Z"
   },
   {
    "duration": 76,
    "start_time": "2021-11-22T10:47:09.565Z"
   },
   {
    "duration": 54,
    "start_time": "2021-11-22T10:47:09.643Z"
   },
   {
    "duration": 56,
    "start_time": "2021-11-22T10:47:09.699Z"
   },
   {
    "duration": 52,
    "start_time": "2021-11-22T10:49:26.359Z"
   },
   {
    "duration": 255,
    "start_time": "2021-11-22T10:50:18.867Z"
   },
   {
    "duration": 185,
    "start_time": "2021-11-22T10:51:43.215Z"
   },
   {
    "duration": 49,
    "start_time": "2021-11-22T10:52:14.873Z"
   },
   {
    "duration": 45,
    "start_time": "2021-11-22T10:52:47.283Z"
   },
   {
    "duration": 4,
    "start_time": "2021-11-22T11:19:29.625Z"
   },
   {
    "duration": 172,
    "start_time": "2021-11-22T11:21:36.533Z"
   },
   {
    "duration": 382,
    "start_time": "2021-11-22T11:22:47.232Z"
   },
   {
    "duration": 5,
    "start_time": "2021-11-22T11:24:09.682Z"
   },
   {
    "duration": 132,
    "start_time": "2021-11-22T11:24:09.689Z"
   },
   {
    "duration": 10,
    "start_time": "2021-11-22T11:24:09.823Z"
   },
   {
    "duration": 24,
    "start_time": "2021-11-22T11:24:09.835Z"
   },
   {
    "duration": 4,
    "start_time": "2021-11-22T11:24:09.861Z"
   },
   {
    "duration": 44,
    "start_time": "2021-11-22T11:24:09.866Z"
   },
   {
    "duration": 5,
    "start_time": "2021-11-22T11:24:09.913Z"
   },
   {
    "duration": 24,
    "start_time": "2021-11-22T11:24:09.920Z"
   },
   {
    "duration": 52,
    "start_time": "2021-11-22T11:24:09.946Z"
   },
   {
    "duration": 30,
    "start_time": "2021-11-22T11:24:10.001Z"
   },
   {
    "duration": 70,
    "start_time": "2021-11-22T11:24:10.033Z"
   },
   {
    "duration": 58,
    "start_time": "2021-11-22T11:24:10.107Z"
   },
   {
    "duration": 66,
    "start_time": "2021-11-22T11:24:10.167Z"
   },
   {
    "duration": 37,
    "start_time": "2021-11-22T11:24:10.235Z"
   },
   {
    "duration": 20,
    "start_time": "2021-11-22T11:24:10.273Z"
   },
   {
    "duration": 381,
    "start_time": "2021-11-22T11:24:10.295Z"
   },
   {
    "duration": 383,
    "start_time": "2021-11-22T11:24:10.295Z"
   },
   {
    "duration": 377,
    "start_time": "2021-11-22T11:24:10.303Z"
   },
   {
    "duration": 370,
    "start_time": "2021-11-22T11:24:10.311Z"
   },
   {
    "duration": 362,
    "start_time": "2021-11-22T11:24:10.320Z"
   },
   {
    "duration": 354,
    "start_time": "2021-11-22T11:24:10.329Z"
   },
   {
    "duration": 347,
    "start_time": "2021-11-22T11:24:10.337Z"
   },
   {
    "duration": 341,
    "start_time": "2021-11-22T11:24:10.344Z"
   },
   {
    "duration": 333,
    "start_time": "2021-11-22T11:24:10.353Z"
   },
   {
    "duration": 279,
    "start_time": "2021-11-22T11:24:10.407Z"
   },
   {
    "duration": 272,
    "start_time": "2021-11-22T11:24:10.416Z"
   },
   {
    "duration": 265,
    "start_time": "2021-11-22T11:24:10.424Z"
   },
   {
    "duration": 257,
    "start_time": "2021-11-22T11:24:10.433Z"
   },
   {
    "duration": 247,
    "start_time": "2021-11-22T11:24:10.444Z"
   },
   {
    "duration": 239,
    "start_time": "2021-11-22T11:24:10.454Z"
   },
   {
    "duration": 232,
    "start_time": "2021-11-22T11:24:10.462Z"
   },
   {
    "duration": 226,
    "start_time": "2021-11-22T11:24:10.470Z"
   },
   {
    "duration": 219,
    "start_time": "2021-11-22T11:24:10.478Z"
   },
   {
    "duration": 210,
    "start_time": "2021-11-22T11:24:10.488Z"
   },
   {
    "duration": 188,
    "start_time": "2021-11-22T11:24:10.511Z"
   },
   {
    "duration": 179,
    "start_time": "2021-11-22T11:24:10.521Z"
   },
   {
    "duration": 173,
    "start_time": "2021-11-22T11:24:10.529Z"
   },
   {
    "duration": 166,
    "start_time": "2021-11-22T11:24:10.537Z"
   },
   {
    "duration": 381,
    "start_time": "2021-11-22T11:27:58.501Z"
   },
   {
    "duration": 3,
    "start_time": "2021-11-22T11:28:11.050Z"
   },
   {
    "duration": 15,
    "start_time": "2021-11-22T11:28:17.745Z"
   },
   {
    "duration": 40,
    "start_time": "2021-11-22T11:29:34.109Z"
   },
   {
    "duration": 3,
    "start_time": "2021-11-22T11:32:17.339Z"
   },
   {
    "duration": 157,
    "start_time": "2021-11-22T11:32:17.347Z"
   },
   {
    "duration": 14,
    "start_time": "2021-11-22T11:32:17.507Z"
   },
   {
    "duration": 39,
    "start_time": "2021-11-22T11:32:17.523Z"
   },
   {
    "duration": 29,
    "start_time": "2021-11-22T11:32:17.564Z"
   },
   {
    "duration": 23,
    "start_time": "2021-11-22T11:32:17.596Z"
   },
   {
    "duration": 4,
    "start_time": "2021-11-22T11:32:17.621Z"
   },
   {
    "duration": 27,
    "start_time": "2021-11-22T11:32:17.626Z"
   },
   {
    "duration": 44,
    "start_time": "2021-11-22T11:32:17.655Z"
   },
   {
    "duration": 29,
    "start_time": "2021-11-22T11:32:17.702Z"
   },
   {
    "duration": 84,
    "start_time": "2021-11-22T11:32:17.733Z"
   },
   {
    "duration": 60,
    "start_time": "2021-11-22T11:32:17.819Z"
   },
   {
    "duration": 64,
    "start_time": "2021-11-22T11:32:17.881Z"
   },
   {
    "duration": 56,
    "start_time": "2021-11-22T11:32:17.947Z"
   },
   {
    "duration": 6,
    "start_time": "2021-11-22T11:32:18.005Z"
   },
   {
    "duration": 17,
    "start_time": "2021-11-22T11:32:18.013Z"
   },
   {
    "duration": 42,
    "start_time": "2021-11-22T11:32:18.032Z"
   },
   {
    "duration": 4,
    "start_time": "2021-11-22T11:32:18.093Z"
   },
   {
    "duration": 12,
    "start_time": "2021-11-22T11:32:18.099Z"
   },
   {
    "duration": 9,
    "start_time": "2021-11-22T11:32:18.113Z"
   },
   {
    "duration": 11,
    "start_time": "2021-11-22T11:32:18.124Z"
   },
   {
    "duration": 7,
    "start_time": "2021-11-22T11:32:18.137Z"
   },
   {
    "duration": 12,
    "start_time": "2021-11-22T11:32:18.146Z"
   },
   {
    "duration": 3,
    "start_time": "2021-11-22T11:32:18.162Z"
   },
   {
    "duration": 4,
    "start_time": "2021-11-22T11:32:18.168Z"
   },
   {
    "duration": 19,
    "start_time": "2021-11-22T11:32:18.173Z"
   },
   {
    "duration": 10,
    "start_time": "2021-11-22T11:32:18.194Z"
   },
   {
    "duration": 13,
    "start_time": "2021-11-22T11:32:18.206Z"
   },
   {
    "duration": 15,
    "start_time": "2021-11-22T11:32:18.221Z"
   },
   {
    "duration": 7,
    "start_time": "2021-11-22T11:32:18.237Z"
   },
   {
    "duration": 12,
    "start_time": "2021-11-22T11:32:18.245Z"
   },
   {
    "duration": 6,
    "start_time": "2021-11-22T11:32:18.259Z"
   },
   {
    "duration": 8,
    "start_time": "2021-11-22T11:32:18.266Z"
   },
   {
    "duration": 6,
    "start_time": "2021-11-22T11:32:18.276Z"
   },
   {
    "duration": 11,
    "start_time": "2021-11-22T11:32:18.284Z"
   },
   {
    "duration": 6,
    "start_time": "2021-11-22T11:32:18.297Z"
   },
   {
    "duration": 6,
    "start_time": "2021-11-22T11:32:18.306Z"
   },
   {
    "duration": 9,
    "start_time": "2021-11-22T11:32:18.314Z"
   },
   {
    "duration": 181,
    "start_time": "2021-11-22T11:45:52.129Z"
   },
   {
    "duration": 3,
    "start_time": "2021-11-22T11:46:56.119Z"
   },
   {
    "duration": 187,
    "start_time": "2021-11-22T11:46:56.126Z"
   },
   {
    "duration": 11,
    "start_time": "2021-11-22T11:46:56.315Z"
   },
   {
    "duration": 63,
    "start_time": "2021-11-22T11:46:56.328Z"
   },
   {
    "duration": 4,
    "start_time": "2021-11-22T11:46:56.394Z"
   },
   {
    "duration": 18,
    "start_time": "2021-11-22T11:46:56.400Z"
   },
   {
    "duration": 4,
    "start_time": "2021-11-22T11:46:56.420Z"
   },
   {
    "duration": 27,
    "start_time": "2021-11-22T11:46:56.425Z"
   },
   {
    "duration": 45,
    "start_time": "2021-11-22T11:46:56.455Z"
   },
   {
    "duration": 23,
    "start_time": "2021-11-22T11:46:56.502Z"
   },
   {
    "duration": 65,
    "start_time": "2021-11-22T11:46:56.527Z"
   },
   {
    "duration": 58,
    "start_time": "2021-11-22T11:46:56.594Z"
   },
   {
    "duration": 64,
    "start_time": "2021-11-22T11:46:56.654Z"
   },
   {
    "duration": 39,
    "start_time": "2021-11-22T11:46:56.720Z"
   },
   {
    "duration": 3,
    "start_time": "2021-11-22T11:46:56.760Z"
   },
   {
    "duration": 29,
    "start_time": "2021-11-22T11:46:56.765Z"
   },
   {
    "duration": 43,
    "start_time": "2021-11-22T11:46:56.796Z"
   },
   {
    "duration": 273,
    "start_time": "2021-11-22T11:46:56.841Z"
   },
   {
    "duration": 548,
    "start_time": "2021-11-22T11:46:56.569Z"
   },
   {
    "duration": 542,
    "start_time": "2021-11-22T11:46:56.576Z"
   },
   {
    "duration": 534,
    "start_time": "2021-11-22T11:46:56.585Z"
   },
   {
    "duration": 528,
    "start_time": "2021-11-22T11:46:56.592Z"
   },
   {
    "duration": 520,
    "start_time": "2021-11-22T11:46:56.601Z"
   },
   {
    "duration": 514,
    "start_time": "2021-11-22T11:46:56.608Z"
   },
   {
    "duration": 470,
    "start_time": "2021-11-22T11:46:56.654Z"
   },
   {
    "duration": 453,
    "start_time": "2021-11-22T11:46:56.671Z"
   },
   {
    "duration": 444,
    "start_time": "2021-11-22T11:46:56.681Z"
   },
   {
    "duration": 437,
    "start_time": "2021-11-22T11:46:56.689Z"
   },
   {
    "duration": 429,
    "start_time": "2021-11-22T11:46:56.698Z"
   },
   {
    "duration": 422,
    "start_time": "2021-11-22T11:46:56.706Z"
   },
   {
    "duration": 415,
    "start_time": "2021-11-22T11:46:56.714Z"
   },
   {
    "duration": 409,
    "start_time": "2021-11-22T11:46:56.720Z"
   },
   {
    "duration": 400,
    "start_time": "2021-11-22T11:46:56.730Z"
   },
   {
    "duration": 388,
    "start_time": "2021-11-22T11:46:56.743Z"
   },
   {
    "duration": 364,
    "start_time": "2021-11-22T11:46:56.768Z"
   },
   {
    "duration": 356,
    "start_time": "2021-11-22T11:46:56.776Z"
   },
   {
    "duration": 348,
    "start_time": "2021-11-22T11:46:56.785Z"
   },
   {
    "duration": 342,
    "start_time": "2021-11-22T11:46:56.792Z"
   },
   {
    "duration": 191,
    "start_time": "2021-11-22T11:48:30.163Z"
   },
   {
    "duration": 31,
    "start_time": "2021-11-22T11:57:36.407Z"
   },
   {
    "duration": 31,
    "start_time": "2021-11-22T11:59:30.776Z"
   },
   {
    "duration": 59,
    "start_time": "2021-11-22T12:34:49.770Z"
   },
   {
    "duration": 57,
    "start_time": "2021-11-22T12:40:13.019Z"
   },
   {
    "duration": 3,
    "start_time": "2021-11-22T12:42:02.318Z"
   },
   {
    "duration": 172,
    "start_time": "2021-11-22T12:43:27.299Z"
   },
   {
    "duration": 37,
    "start_time": "2021-11-22T12:43:53.839Z"
   },
   {
    "duration": 3,
    "start_time": "2021-11-22T12:44:55.890Z"
   },
   {
    "duration": 17,
    "start_time": "2021-11-22T12:45:03.580Z"
   },
   {
    "duration": 15,
    "start_time": "2021-11-22T12:46:13.066Z"
   },
   {
    "duration": 15,
    "start_time": "2021-11-22T12:47:47.746Z"
   },
   {
    "duration": 14,
    "start_time": "2021-11-22T12:47:50.260Z"
   },
   {
    "duration": 17,
    "start_time": "2021-11-22T12:48:30.226Z"
   },
   {
    "duration": 15,
    "start_time": "2021-11-22T12:48:31.924Z"
   },
   {
    "duration": 10,
    "start_time": "2021-11-22T12:57:50.112Z"
   },
   {
    "duration": 13,
    "start_time": "2021-11-22T13:02:26.895Z"
   },
   {
    "duration": 10,
    "start_time": "2021-11-22T13:03:18.199Z"
   },
   {
    "duration": 4,
    "start_time": "2021-11-22T13:27:09.237Z"
   },
   {
    "duration": 16,
    "start_time": "2021-11-22T13:28:11.163Z"
   },
   {
    "duration": 17,
    "start_time": "2021-11-22T13:29:34.512Z"
   },
   {
    "duration": 4,
    "start_time": "2021-11-22T13:30:44.435Z"
   },
   {
    "duration": 19,
    "start_time": "2021-11-22T13:30:48.838Z"
   },
   {
    "duration": 18,
    "start_time": "2021-11-22T13:31:07.337Z"
   },
   {
    "duration": 19,
    "start_time": "2021-11-22T13:31:51.387Z"
   },
   {
    "duration": 14,
    "start_time": "2021-11-22T13:32:37.392Z"
   },
   {
    "duration": 17,
    "start_time": "2021-11-22T13:35:01.588Z"
   },
   {
    "duration": 11,
    "start_time": "2021-11-22T13:35:14.378Z"
   },
   {
    "duration": 506,
    "start_time": "2021-11-22T17:33:33.877Z"
   },
   {
    "duration": 819,
    "start_time": "2021-11-22T17:34:03.546Z"
   },
   {
    "duration": 205,
    "start_time": "2021-11-22T17:34:04.367Z"
   },
   {
    "duration": 31,
    "start_time": "2021-11-22T17:34:04.575Z"
   },
   {
    "duration": 32,
    "start_time": "2021-11-22T17:34:04.609Z"
   },
   {
    "duration": 7,
    "start_time": "2021-11-22T17:34:04.643Z"
   },
   {
    "duration": 68,
    "start_time": "2021-11-22T17:34:04.652Z"
   },
   {
    "duration": 5,
    "start_time": "2021-11-22T17:34:04.723Z"
   },
   {
    "duration": 32,
    "start_time": "2021-11-22T17:34:04.732Z"
   },
   {
    "duration": 47,
    "start_time": "2021-11-22T17:34:04.768Z"
   },
   {
    "duration": 35,
    "start_time": "2021-11-22T17:34:04.817Z"
   },
   {
    "duration": 117,
    "start_time": "2021-11-22T17:34:04.855Z"
   },
   {
    "duration": 135,
    "start_time": "2021-11-22T17:34:04.975Z"
   },
   {
    "duration": 95,
    "start_time": "2021-11-22T17:34:05.112Z"
   },
   {
    "duration": 62,
    "start_time": "2021-11-22T17:34:05.210Z"
   },
   {
    "duration": 26,
    "start_time": "2021-11-22T17:34:05.275Z"
   },
   {
    "duration": 19,
    "start_time": "2021-11-22T17:34:05.304Z"
   },
   {
    "duration": 87,
    "start_time": "2021-11-22T17:34:05.325Z"
   },
   {
    "duration": 50,
    "start_time": "2021-11-22T17:34:05.414Z"
   },
   {
    "duration": 70,
    "start_time": "2021-11-22T17:34:05.467Z"
   },
   {
    "duration": 4,
    "start_time": "2021-11-22T17:34:05.540Z"
   },
   {
    "duration": 33,
    "start_time": "2021-11-22T17:34:05.547Z"
   },
   {
    "duration": 33,
    "start_time": "2021-11-22T17:34:05.583Z"
   },
   {
    "duration": 21,
    "start_time": "2021-11-22T17:34:05.622Z"
   },
   {
    "duration": 59,
    "start_time": "2021-11-22T17:34:05.647Z"
   },
   {
    "duration": 25,
    "start_time": "2021-11-22T17:34:05.709Z"
   },
   {
    "duration": 20,
    "start_time": "2021-11-22T17:34:05.737Z"
   },
   {
    "duration": 43,
    "start_time": "2021-11-22T17:34:05.760Z"
   },
   {
    "duration": 17,
    "start_time": "2021-11-22T17:34:05.806Z"
   },
   {
    "duration": 18,
    "start_time": "2021-11-22T17:34:05.826Z"
   },
   {
    "duration": 7,
    "start_time": "2021-11-22T17:34:05.847Z"
   },
   {
    "duration": 74,
    "start_time": "2021-11-22T17:34:05.857Z"
   },
   {
    "duration": 23,
    "start_time": "2021-11-22T17:34:05.934Z"
   },
   {
    "duration": 49,
    "start_time": "2021-11-22T17:34:05.960Z"
   },
   {
    "duration": 18,
    "start_time": "2021-11-22T17:34:06.012Z"
   },
   {
    "duration": 13,
    "start_time": "2021-11-22T17:34:06.032Z"
   },
   {
    "duration": 8,
    "start_time": "2021-11-22T17:34:06.048Z"
   },
   {
    "duration": 44,
    "start_time": "2021-11-22T17:34:06.058Z"
   },
   {
    "duration": 8,
    "start_time": "2021-11-22T17:34:06.104Z"
   },
   {
    "duration": 8,
    "start_time": "2021-11-22T17:35:58.711Z"
   },
   {
    "duration": 7,
    "start_time": "2021-11-22T17:36:02.490Z"
   },
   {
    "duration": 4,
    "start_time": "2021-11-22T17:49:00.794Z"
   },
   {
    "duration": 223,
    "start_time": "2021-11-22T17:49:00.804Z"
   },
   {
    "duration": 15,
    "start_time": "2021-11-22T17:49:01.030Z"
   },
   {
    "duration": 63,
    "start_time": "2021-11-22T17:49:01.049Z"
   },
   {
    "duration": 16,
    "start_time": "2021-11-22T17:49:01.115Z"
   },
   {
    "duration": 38,
    "start_time": "2021-11-22T17:49:01.134Z"
   },
   {
    "duration": 6,
    "start_time": "2021-11-22T17:49:01.175Z"
   },
   {
    "duration": 46,
    "start_time": "2021-11-22T17:49:01.183Z"
   },
   {
    "duration": 37,
    "start_time": "2021-11-22T17:49:01.233Z"
   },
   {
    "duration": 58,
    "start_time": "2021-11-22T17:49:01.273Z"
   },
   {
    "duration": 111,
    "start_time": "2021-11-22T17:49:01.334Z"
   },
   {
    "duration": 128,
    "start_time": "2021-11-22T17:49:01.448Z"
   },
   {
    "duration": 93,
    "start_time": "2021-11-22T17:49:01.578Z"
   },
   {
    "duration": 70,
    "start_time": "2021-11-22T17:49:01.674Z"
   },
   {
    "duration": 10,
    "start_time": "2021-11-22T17:49:01.747Z"
   },
   {
    "duration": 39,
    "start_time": "2021-11-22T17:49:01.760Z"
   },
   {
    "duration": 78,
    "start_time": "2021-11-22T17:49:01.802Z"
   },
   {
    "duration": 62,
    "start_time": "2021-11-22T17:49:01.883Z"
   },
   {
    "duration": 83,
    "start_time": "2021-11-22T17:49:01.947Z"
   },
   {
    "duration": 5,
    "start_time": "2021-11-22T17:49:02.033Z"
   },
   {
    "duration": 107,
    "start_time": "2021-11-22T17:49:02.041Z"
   },
   {
    "duration": 31,
    "start_time": "2021-11-22T17:49:02.151Z"
   },
   {
    "duration": 50,
    "start_time": "2021-11-22T17:49:02.185Z"
   },
   {
    "duration": 26,
    "start_time": "2021-11-22T17:49:02.241Z"
   },
   {
    "duration": 45,
    "start_time": "2021-11-22T17:49:02.271Z"
   },
   {
    "duration": 30,
    "start_time": "2021-11-22T17:49:02.319Z"
   },
   {
    "duration": 25,
    "start_time": "2021-11-22T17:49:02.352Z"
   },
   {
    "duration": 40,
    "start_time": "2021-11-22T17:49:02.380Z"
   },
   {
    "duration": 19,
    "start_time": "2021-11-22T17:49:02.423Z"
   },
   {
    "duration": 5,
    "start_time": "2021-11-22T17:49:02.445Z"
   },
   {
    "duration": 64,
    "start_time": "2021-11-22T17:49:02.453Z"
   },
   {
    "duration": 17,
    "start_time": "2021-11-22T17:49:02.519Z"
   },
   {
    "duration": 23,
    "start_time": "2021-11-22T17:49:02.539Z"
   },
   {
    "duration": 47,
    "start_time": "2021-11-22T17:49:02.565Z"
   },
   {
    "duration": 14,
    "start_time": "2021-11-22T17:49:02.614Z"
   },
   {
    "duration": 7,
    "start_time": "2021-11-22T17:49:02.631Z"
   },
   {
    "duration": 23,
    "start_time": "2021-11-22T17:49:02.641Z"
   },
   {
    "duration": 39,
    "start_time": "2021-11-22T17:49:02.666Z"
   },
   {
    "duration": 4,
    "start_time": "2021-11-22T17:51:58.751Z"
   },
   {
    "duration": 203,
    "start_time": "2021-11-22T17:51:58.762Z"
   },
   {
    "duration": 34,
    "start_time": "2021-11-22T17:51:58.968Z"
   },
   {
    "duration": 32,
    "start_time": "2021-11-22T17:51:59.005Z"
   },
   {
    "duration": 7,
    "start_time": "2021-11-22T17:51:59.041Z"
   },
   {
    "duration": 67,
    "start_time": "2021-11-22T17:51:59.051Z"
   },
   {
    "duration": 6,
    "start_time": "2021-11-22T17:51:59.121Z"
   },
   {
    "duration": 35,
    "start_time": "2021-11-22T17:51:59.130Z"
   },
   {
    "duration": 51,
    "start_time": "2021-11-22T17:51:59.170Z"
   },
   {
    "duration": 32,
    "start_time": "2021-11-22T17:51:59.224Z"
   },
   {
    "duration": 111,
    "start_time": "2021-11-22T17:51:59.259Z"
   },
   {
    "duration": 109,
    "start_time": "2021-11-22T17:51:59.373Z"
   },
   {
    "duration": 82,
    "start_time": "2021-11-22T17:51:59.485Z"
   },
   {
    "duration": 70,
    "start_time": "2021-11-22T17:51:59.569Z"
   },
   {
    "duration": 5,
    "start_time": "2021-11-22T17:51:59.642Z"
   },
   {
    "duration": 16,
    "start_time": "2021-11-22T17:51:59.650Z"
   },
   {
    "duration": 118,
    "start_time": "2021-11-22T17:51:59.668Z"
   },
   {
    "duration": 69,
    "start_time": "2021-11-22T17:51:59.800Z"
   },
   {
    "duration": 79,
    "start_time": "2021-11-22T17:51:59.872Z"
   },
   {
    "duration": 5,
    "start_time": "2021-11-22T17:51:59.954Z"
   },
   {
    "duration": 53,
    "start_time": "2021-11-22T17:51:59.962Z"
   },
   {
    "duration": 23,
    "start_time": "2021-11-22T17:52:00.017Z"
   },
   {
    "duration": 24,
    "start_time": "2021-11-22T17:52:00.043Z"
   },
   {
    "duration": 46,
    "start_time": "2021-11-22T17:52:00.072Z"
   },
   {
    "duration": 26,
    "start_time": "2021-11-22T17:52:00.121Z"
   },
   {
    "duration": 56,
    "start_time": "2021-11-22T17:52:00.150Z"
   },
   {
    "duration": 14,
    "start_time": "2021-11-22T17:52:00.209Z"
   },
   {
    "duration": 34,
    "start_time": "2021-11-22T17:52:00.226Z"
   },
   {
    "duration": 15,
    "start_time": "2021-11-22T17:52:00.263Z"
   },
   {
    "duration": 22,
    "start_time": "2021-11-22T17:52:00.281Z"
   },
   {
    "duration": 40,
    "start_time": "2021-11-22T17:52:00.305Z"
   },
   {
    "duration": 30,
    "start_time": "2021-11-22T17:52:00.348Z"
   },
   {
    "duration": 44,
    "start_time": "2021-11-22T17:52:00.381Z"
   },
   {
    "duration": 22,
    "start_time": "2021-11-22T17:52:00.428Z"
   },
   {
    "duration": 17,
    "start_time": "2021-11-22T17:52:00.453Z"
   },
   {
    "duration": 12,
    "start_time": "2021-11-22T17:52:00.502Z"
   },
   {
    "duration": 34,
    "start_time": "2021-11-22T17:52:00.516Z"
   },
   {
    "duration": 14,
    "start_time": "2021-11-22T17:52:00.552Z"
   },
   {
    "duration": 4,
    "start_time": "2021-11-22T17:52:19.262Z"
   },
   {
    "duration": 202,
    "start_time": "2021-11-22T17:52:19.272Z"
   },
   {
    "duration": 28,
    "start_time": "2021-11-22T17:52:19.477Z"
   },
   {
    "duration": 35,
    "start_time": "2021-11-22T17:52:19.508Z"
   },
   {
    "duration": 5,
    "start_time": "2021-11-22T17:52:19.546Z"
   },
   {
    "duration": 61,
    "start_time": "2021-11-22T17:52:19.553Z"
   },
   {
    "duration": 5,
    "start_time": "2021-11-22T17:52:19.617Z"
   },
   {
    "duration": 36,
    "start_time": "2021-11-22T17:52:19.624Z"
   },
   {
    "duration": 49,
    "start_time": "2021-11-22T17:52:19.663Z"
   },
   {
    "duration": 31,
    "start_time": "2021-11-22T17:52:19.715Z"
   },
   {
    "duration": 104,
    "start_time": "2021-11-22T17:52:19.750Z"
   },
   {
    "duration": 114,
    "start_time": "2021-11-22T17:52:19.856Z"
   },
   {
    "duration": 93,
    "start_time": "2021-11-22T17:52:19.973Z"
   },
   {
    "duration": 70,
    "start_time": "2021-11-22T17:52:20.069Z"
   },
   {
    "duration": 5,
    "start_time": "2021-11-22T17:52:20.142Z"
   },
   {
    "duration": 17,
    "start_time": "2021-11-22T17:52:20.150Z"
   },
   {
    "duration": 62,
    "start_time": "2021-11-22T17:52:20.200Z"
   },
   {
    "duration": 68,
    "start_time": "2021-11-22T17:52:20.266Z"
   },
   {
    "duration": 44,
    "start_time": "2021-11-22T17:52:20.337Z"
   },
   {
    "duration": 17,
    "start_time": "2021-11-22T17:52:20.384Z"
   },
   {
    "duration": 49,
    "start_time": "2021-11-22T17:52:20.404Z"
   },
   {
    "duration": 27,
    "start_time": "2021-11-22T17:52:20.456Z"
   },
   {
    "duration": 35,
    "start_time": "2021-11-22T17:52:20.485Z"
   },
   {
    "duration": 20,
    "start_time": "2021-11-22T17:52:20.527Z"
   },
   {
    "duration": 60,
    "start_time": "2021-11-22T17:52:20.551Z"
   },
   {
    "duration": 21,
    "start_time": "2021-11-22T17:52:20.614Z"
   },
   {
    "duration": 13,
    "start_time": "2021-11-22T17:52:20.638Z"
   },
   {
    "duration": 59,
    "start_time": "2021-11-22T17:52:20.653Z"
   },
   {
    "duration": 16,
    "start_time": "2021-11-22T17:52:20.714Z"
   },
   {
    "duration": 5,
    "start_time": "2021-11-22T17:52:20.733Z"
   },
   {
    "duration": 35,
    "start_time": "2021-11-22T17:52:20.740Z"
   },
   {
    "duration": 39,
    "start_time": "2021-11-22T17:52:20.777Z"
   },
   {
    "duration": 22,
    "start_time": "2021-11-22T17:52:20.819Z"
   },
   {
    "duration": 17,
    "start_time": "2021-11-22T17:52:20.844Z"
   },
   {
    "duration": 11,
    "start_time": "2021-11-22T17:52:20.900Z"
   },
   {
    "duration": 14,
    "start_time": "2021-11-22T17:52:20.914Z"
   },
   {
    "duration": 17,
    "start_time": "2021-11-22T17:52:20.931Z"
   },
   {
    "duration": 17,
    "start_time": "2021-11-22T17:52:20.951Z"
   },
   {
    "duration": 4,
    "start_time": "2021-11-22T17:52:31.290Z"
   },
   {
    "duration": 4,
    "start_time": "2021-11-22T17:52:57.127Z"
   },
   {
    "duration": 294,
    "start_time": "2021-11-22T17:52:57.136Z"
   },
   {
    "duration": 21,
    "start_time": "2021-11-22T17:52:57.434Z"
   },
   {
    "duration": 73,
    "start_time": "2021-11-22T17:52:57.459Z"
   },
   {
    "duration": 6,
    "start_time": "2021-11-22T17:52:57.535Z"
   },
   {
    "duration": 23,
    "start_time": "2021-11-22T17:52:57.545Z"
   },
   {
    "duration": 32,
    "start_time": "2021-11-22T17:52:57.571Z"
   },
   {
    "duration": 34,
    "start_time": "2021-11-22T17:52:57.605Z"
   },
   {
    "duration": 57,
    "start_time": "2021-11-22T17:52:57.643Z"
   },
   {
    "duration": 33,
    "start_time": "2021-11-22T17:52:57.703Z"
   },
   {
    "duration": 105,
    "start_time": "2021-11-22T17:52:57.738Z"
   },
   {
    "duration": 110,
    "start_time": "2021-11-22T17:52:57.846Z"
   },
   {
    "duration": 87,
    "start_time": "2021-11-22T17:52:57.958Z"
   },
   {
    "duration": 66,
    "start_time": "2021-11-22T17:52:58.047Z"
   },
   {
    "duration": 5,
    "start_time": "2021-11-22T17:52:58.115Z"
   },
   {
    "duration": 19,
    "start_time": "2021-11-22T17:52:58.123Z"
   },
   {
    "duration": 91,
    "start_time": "2021-11-22T17:52:58.144Z"
   },
   {
    "duration": 47,
    "start_time": "2021-11-22T17:52:58.238Z"
   },
   {
    "duration": 45,
    "start_time": "2021-11-22T17:52:58.301Z"
   },
   {
    "duration": 5,
    "start_time": "2021-11-22T17:52:58.348Z"
   },
   {
    "duration": 55,
    "start_time": "2021-11-22T17:52:58.355Z"
   },
   {
    "duration": 18,
    "start_time": "2021-11-22T17:52:58.413Z"
   },
   {
    "duration": 28,
    "start_time": "2021-11-22T17:52:58.434Z"
   },
   {
    "duration": 54,
    "start_time": "2021-11-22T17:52:58.469Z"
   },
   {
    "duration": 29,
    "start_time": "2021-11-22T17:52:58.527Z"
   },
   {
    "duration": 56,
    "start_time": "2021-11-22T17:52:58.559Z"
   },
   {
    "duration": 16,
    "start_time": "2021-11-22T17:52:58.618Z"
   },
   {
    "duration": 29,
    "start_time": "2021-11-22T17:52:58.637Z"
   },
   {
    "duration": 47,
    "start_time": "2021-11-22T17:52:58.668Z"
   },
   {
    "duration": 7,
    "start_time": "2021-11-22T17:52:58.718Z"
   },
   {
    "duration": 41,
    "start_time": "2021-11-22T17:52:58.728Z"
   },
   {
    "duration": 41,
    "start_time": "2021-11-22T17:52:58.772Z"
   },
   {
    "duration": 32,
    "start_time": "2021-11-22T17:52:58.816Z"
   },
   {
    "duration": 50,
    "start_time": "2021-11-22T17:52:58.850Z"
   },
   {
    "duration": 12,
    "start_time": "2021-11-22T17:52:58.903Z"
   },
   {
    "duration": 7,
    "start_time": "2021-11-22T17:52:58.917Z"
   },
   {
    "duration": 10,
    "start_time": "2021-11-22T17:52:58.926Z"
   },
   {
    "duration": 7,
    "start_time": "2021-11-22T17:52:58.939Z"
   },
   {
    "duration": 757,
    "start_time": "2021-11-23T07:11:35.925Z"
   },
   {
    "duration": 228,
    "start_time": "2021-11-23T07:11:36.685Z"
   },
   {
    "duration": 27,
    "start_time": "2021-11-23T07:11:36.917Z"
   },
   {
    "duration": 55,
    "start_time": "2021-11-23T07:11:36.946Z"
   },
   {
    "duration": 12,
    "start_time": "2021-11-23T07:11:37.004Z"
   },
   {
    "duration": 32,
    "start_time": "2021-11-23T07:11:37.019Z"
   },
   {
    "duration": 31,
    "start_time": "2021-11-23T07:11:37.054Z"
   },
   {
    "duration": 33,
    "start_time": "2021-11-23T07:11:37.089Z"
   },
   {
    "duration": 26,
    "start_time": "2021-11-23T07:11:37.128Z"
   },
   {
    "duration": 33,
    "start_time": "2021-11-23T07:11:37.184Z"
   },
   {
    "duration": 118,
    "start_time": "2021-11-23T07:11:37.220Z"
   },
   {
    "duration": 131,
    "start_time": "2021-11-23T07:11:37.341Z"
   },
   {
    "duration": 86,
    "start_time": "2021-11-23T07:11:37.475Z"
   },
   {
    "duration": 105,
    "start_time": "2021-11-23T07:11:37.564Z"
   },
   {
    "duration": 5,
    "start_time": "2021-11-23T07:11:37.681Z"
   },
   {
    "duration": 23,
    "start_time": "2021-11-23T07:11:37.688Z"
   },
   {
    "duration": 77,
    "start_time": "2021-11-23T07:11:37.713Z"
   },
   {
    "duration": 50,
    "start_time": "2021-11-23T07:11:37.793Z"
   },
   {
    "duration": 75,
    "start_time": "2021-11-23T07:11:37.846Z"
   },
   {
    "duration": 5,
    "start_time": "2021-11-23T07:11:37.924Z"
   },
   {
    "duration": 27,
    "start_time": "2021-11-23T07:11:37.932Z"
   },
   {
    "duration": 41,
    "start_time": "2021-11-23T07:11:37.962Z"
   },
   {
    "duration": 20,
    "start_time": "2021-11-23T07:11:38.006Z"
   },
   {
    "duration": 54,
    "start_time": "2021-11-23T07:11:38.029Z"
   },
   {
    "duration": 21,
    "start_time": "2021-11-23T07:11:38.086Z"
   },
   {
    "duration": 20,
    "start_time": "2021-11-23T07:11:38.109Z"
   },
   {
    "duration": 12,
    "start_time": "2021-11-23T07:11:38.134Z"
   },
   {
    "duration": 17,
    "start_time": "2021-11-23T07:11:38.182Z"
   },
   {
    "duration": 12,
    "start_time": "2021-11-23T07:11:38.202Z"
   },
   {
    "duration": 6,
    "start_time": "2021-11-23T07:11:38.216Z"
   },
   {
    "duration": 68,
    "start_time": "2021-11-23T07:11:38.225Z"
   },
   {
    "duration": 17,
    "start_time": "2021-11-23T07:11:38.296Z"
   },
   {
    "duration": 24,
    "start_time": "2021-11-23T07:11:38.315Z"
   },
   {
    "duration": 51,
    "start_time": "2021-11-23T07:11:38.341Z"
   },
   {
    "duration": 10,
    "start_time": "2021-11-23T07:11:38.395Z"
   },
   {
    "duration": 7,
    "start_time": "2021-11-23T07:11:38.408Z"
   },
   {
    "duration": 9,
    "start_time": "2021-11-23T07:11:38.417Z"
   },
   {
    "duration": 6,
    "start_time": "2021-11-23T07:11:38.428Z"
   },
   {
    "duration": 26,
    "start_time": "2021-11-23T07:11:58.131Z"
   },
   {
    "duration": 74,
    "start_time": "2021-11-23T07:12:22.803Z"
   },
   {
    "duration": 60,
    "start_time": "2021-11-23T07:12:44.315Z"
   },
   {
    "duration": 15,
    "start_time": "2021-11-23T07:13:54.338Z"
   },
   {
    "duration": 430,
    "start_time": "2022-04-11T08:16:35.962Z"
   },
   {
    "duration": 177,
    "start_time": "2022-04-11T08:16:36.394Z"
   },
   {
    "duration": 19,
    "start_time": "2022-04-11T08:16:36.573Z"
   },
   {
    "duration": 45,
    "start_time": "2022-04-11T08:16:36.594Z"
   },
   {
    "duration": 4,
    "start_time": "2022-04-11T08:16:36.641Z"
   },
   {
    "duration": 18,
    "start_time": "2022-04-11T08:16:36.647Z"
   },
   {
    "duration": 20,
    "start_time": "2022-04-11T08:16:36.667Z"
   },
   {
    "duration": 5,
    "start_time": "2022-04-11T08:16:36.689Z"
   },
   {
    "duration": 44,
    "start_time": "2022-04-11T08:16:36.696Z"
   },
   {
    "duration": 19,
    "start_time": "2022-04-11T08:16:36.743Z"
   },
   {
    "duration": 26,
    "start_time": "2022-04-11T08:16:36.764Z"
   },
   {
    "duration": 92,
    "start_time": "2022-04-11T08:16:36.791Z"
   },
   {
    "duration": 94,
    "start_time": "2022-04-11T08:16:36.885Z"
   },
   {
    "duration": 71,
    "start_time": "2022-04-11T08:16:36.981Z"
   },
   {
    "duration": 43,
    "start_time": "2022-04-11T08:16:37.055Z"
   },
   {
    "duration": 4,
    "start_time": "2022-04-11T08:16:37.100Z"
   },
   {
    "duration": 37,
    "start_time": "2022-04-11T08:16:37.106Z"
   },
   {
    "duration": 43,
    "start_time": "2022-04-11T08:16:37.145Z"
   },
   {
    "duration": 13,
    "start_time": "2022-04-11T08:16:37.190Z"
   },
   {
    "duration": 40,
    "start_time": "2022-04-11T08:16:37.205Z"
   },
   {
    "duration": 4,
    "start_time": "2022-04-11T08:16:37.247Z"
   },
   {
    "duration": 31,
    "start_time": "2022-04-11T08:16:37.253Z"
   },
   {
    "duration": 18,
    "start_time": "2022-04-11T08:16:37.286Z"
   },
   {
    "duration": 26,
    "start_time": "2022-04-11T08:16:37.305Z"
   },
   {
    "duration": 15,
    "start_time": "2022-04-11T08:16:37.338Z"
   },
   {
    "duration": 19,
    "start_time": "2022-04-11T08:16:37.355Z"
   },
   {
    "duration": 16,
    "start_time": "2022-04-11T08:16:37.375Z"
   },
   {
    "duration": 9,
    "start_time": "2022-04-11T08:16:37.394Z"
   },
   {
    "duration": 45,
    "start_time": "2022-04-11T08:16:37.405Z"
   },
   {
    "duration": 15,
    "start_time": "2022-04-11T08:16:37.452Z"
   },
   {
    "duration": 6,
    "start_time": "2022-04-11T08:16:37.469Z"
   },
   {
    "duration": 39,
    "start_time": "2022-04-11T08:16:37.477Z"
   },
   {
    "duration": 22,
    "start_time": "2022-04-11T08:16:37.518Z"
   },
   {
    "duration": 21,
    "start_time": "2022-04-11T08:16:37.542Z"
   },
   {
    "duration": 12,
    "start_time": "2022-04-11T08:16:37.565Z"
   },
   {
    "duration": 9,
    "start_time": "2022-04-11T08:16:37.579Z"
   },
   {
    "duration": 9,
    "start_time": "2022-04-11T08:16:37.590Z"
   },
   {
    "duration": 14,
    "start_time": "2022-04-11T08:16:37.601Z"
   },
   {
    "duration": 26,
    "start_time": "2022-04-11T08:16:37.617Z"
   },
   {
    "duration": 421,
    "start_time": "2022-04-11T08:20:36.089Z"
   },
   {
    "duration": 174,
    "start_time": "2022-04-11T08:20:36.513Z"
   },
   {
    "duration": 20,
    "start_time": "2022-04-11T08:20:36.689Z"
   },
   {
    "duration": 49,
    "start_time": "2022-04-11T08:20:36.712Z"
   },
   {
    "duration": 5,
    "start_time": "2022-04-11T08:20:36.764Z"
   },
   {
    "duration": 24,
    "start_time": "2022-04-11T08:20:36.771Z"
   },
   {
    "duration": 20,
    "start_time": "2022-04-11T08:20:36.797Z"
   },
   {
    "duration": 21,
    "start_time": "2022-04-11T08:20:36.819Z"
   },
   {
    "duration": 34,
    "start_time": "2022-04-11T08:20:36.842Z"
   },
   {
    "duration": 22,
    "start_time": "2022-04-11T08:20:36.879Z"
   },
   {
    "duration": 40,
    "start_time": "2022-04-11T08:20:36.903Z"
   },
   {
    "duration": 73,
    "start_time": "2022-04-11T08:20:36.944Z"
   },
   {
    "duration": 99,
    "start_time": "2022-04-11T08:20:37.018Z"
   },
   {
    "duration": 70,
    "start_time": "2022-04-11T08:20:37.118Z"
   },
   {
    "duration": 55,
    "start_time": "2022-04-11T08:20:37.190Z"
   },
   {
    "duration": 3,
    "start_time": "2022-04-11T08:20:37.247Z"
   },
   {
    "duration": 27,
    "start_time": "2022-04-11T08:20:37.252Z"
   },
   {
    "duration": 45,
    "start_time": "2022-04-11T08:20:37.281Z"
   },
   {
    "duration": 18,
    "start_time": "2022-04-11T08:20:37.327Z"
   },
   {
    "duration": 13,
    "start_time": "2022-04-11T08:20:37.347Z"
   },
   {
    "duration": 6,
    "start_time": "2022-04-11T08:20:37.362Z"
   },
   {
    "duration": 30,
    "start_time": "2022-04-11T08:20:37.370Z"
   },
   {
    "duration": 38,
    "start_time": "2022-04-11T08:20:37.402Z"
   },
   {
    "duration": 18,
    "start_time": "2022-04-11T08:20:37.442Z"
   },
   {
    "duration": 17,
    "start_time": "2022-04-11T08:20:37.463Z"
   },
   {
    "duration": 22,
    "start_time": "2022-04-11T08:20:37.482Z"
   },
   {
    "duration": 45,
    "start_time": "2022-04-11T08:20:37.506Z"
   },
   {
    "duration": 9,
    "start_time": "2022-04-11T08:20:37.555Z"
   },
   {
    "duration": 27,
    "start_time": "2022-04-11T08:20:37.566Z"
   },
   {
    "duration": 16,
    "start_time": "2022-04-11T08:20:37.596Z"
   },
   {
    "duration": 33,
    "start_time": "2022-04-11T08:20:37.614Z"
   },
   {
    "duration": 33,
    "start_time": "2022-04-11T08:20:37.649Z"
   },
   {
    "duration": 15,
    "start_time": "2022-04-11T08:20:37.684Z"
   },
   {
    "duration": 19,
    "start_time": "2022-04-11T08:20:37.701Z"
   },
   {
    "duration": 22,
    "start_time": "2022-04-11T08:20:37.722Z"
   },
   {
    "duration": 9,
    "start_time": "2022-04-11T08:20:37.746Z"
   },
   {
    "duration": 6,
    "start_time": "2022-04-11T08:20:37.757Z"
   },
   {
    "duration": 16,
    "start_time": "2022-04-11T08:20:37.765Z"
   },
   {
    "duration": 8,
    "start_time": "2022-04-11T08:20:37.783Z"
   }
  ],
  "colab": {
   "collapsed_sections": [
    "E0vqbgi9ay0H",
    "VUC88oWjTJw2"
   ],
   "name": "yandex_music_project_2021.2.ipynb",
   "provenance": []
  },
  "kernelspec": {
   "display_name": "Python 3 (ipykernel)",
   "language": "python",
   "name": "python3"
  },
  "language_info": {
   "codemirror_mode": {
    "name": "ipython",
    "version": 3
   },
   "file_extension": ".py",
   "mimetype": "text/x-python",
   "name": "python",
   "nbconvert_exporter": "python",
   "pygments_lexer": "ipython3",
   "version": "3.9.5"
  },
  "toc": {
   "base_numbering": 1,
   "nav_menu": {},
   "number_sections": true,
   "sideBar": true,
   "skip_h1_title": true,
   "title_cell": "Оглавление",
   "title_sidebar": "Contents",
   "toc_cell": true,
   "toc_position": {
    "height": "calc(100% - 180px)",
    "left": "10px",
    "top": "150px",
    "width": "270px"
   },
   "toc_section_display": true,
   "toc_window_display": true
  }
 },
 "nbformat": 4,
 "nbformat_minor": 1
}
